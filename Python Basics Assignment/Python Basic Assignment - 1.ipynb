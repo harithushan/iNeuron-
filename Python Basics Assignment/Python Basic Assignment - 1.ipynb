{
 "cells": [
  {
   "attachments": {},
   "cell_type": "markdown",
   "id": "2b564745",
   "metadata": {},
   "source": [
    "## Assignment-1"
   ]
  },
  {
   "cell_type": "markdown",
   "id": "05eb7a4c",
   "metadata": {},
   "source": [
    "---------------------------------------------------------------"
   ]
  },
  {
   "cell_type": "markdown",
   "id": "c3ad9cc4",
   "metadata": {},
   "source": [
    "#### 1. In the below elements which of them are values or an expression? eg:- values can be integer or string and expressions will be mathematical operators."
   ]
  },
  {
   "cell_type": "markdown",
   "id": "4bfa52b3",
   "metadata": {},
   "source": [
    "    *            : Expression(Mathematical operators)\n",
    "    'hello'      : Value (String) \n",
    "    -87.8        : Value (Float)\n",
    "    -            : Expression(Mathematical operators)\n",
    "    /            : Expression(Mathematical operators)\n",
    "    6            : Value (Integer)"
   ]
  },
  {
   "cell_type": "markdown",
   "id": "897d1b05",
   "metadata": {},
   "source": [
    "----------------------------------------------------"
   ]
  },
  {
   "attachments": {},
   "cell_type": "markdown",
   "id": "f79f4d9d",
   "metadata": {},
   "source": [
    "#### 2. What is the difference between string and variable?\n",
    "\n",
    "- Variable is a container/label which can store the value(data) and this data can be of int, float, str data-type.\n",
    "- String is one of the datatype which is sequence of characters which represents a text (for eg: 'Data Science')"
   ]
  },
  {
   "cell_type": "code",
   "execution_count": null,
   "id": "925d3fc3",
   "metadata": {},
   "outputs": [],
   "source": [
    "name = \"Thushanthan\" ## here name is a variable and \"Thushanthan\" is a string\n",
    "print(name)\n",
    "print(type(name))"
   ]
  },
  {
   "cell_type": "markdown",
   "id": "b01e8362",
   "metadata": {},
   "source": [
    "--------------------------------------------------------------"
   ]
  },
  {
   "attachments": {},
   "cell_type": "markdown",
   "id": "3f768295",
   "metadata": {},
   "source": [
    "#### 3. Describe three different data types.\n",
    "\n",
    "- Int   : Repersents the integer values (eg. a = 123, b = -421)\n",
    "<br/><br/>\n",
    "- float : Repersents the real numbers(floating point) (eg. c = 12.34, d = -3.69)\n",
    "<br/><br/>\n",
    "- string: Repersents the sequence of characters. Also the characters can be numbers, special character, and alphabates. (eg. s1 = \"Thushanthan\", s2 = \"harithushan2@gmail.com\") "
   ]
  },
  {
   "cell_type": "markdown",
   "id": "3e0c1e03",
   "metadata": {},
   "source": [
    "---------------------------------------------------------"
   ]
  },
  {
   "attachments": {},
   "cell_type": "markdown",
   "id": "8562f87d",
   "metadata": {},
   "source": [
    "#### 4. What is an expression made up of? What do all expressions do?\n",
    "\n",
    "- An expression in Python is any valid unit of code that returns a value. It can be a combination of values, variables, operators, and/or functions that can be evaluated to a single value\n",
    "<br/><br/>\n",
    "- Expression is used to produce some result or value."
   ]
  },
  {
   "cell_type": "markdown",
   "id": "6a7c8ab2",
   "metadata": {},
   "source": [
    "---------------------------------------------------------"
   ]
  },
  {
   "attachments": {},
   "cell_type": "markdown",
   "id": "2c449d52",
   "metadata": {},
   "source": [
    "#### 5. This assignment statements, like spam = 10. What is the difference between an expression and a statement?\n",
    "\n",
    " - Assignment statement : A statement is  where some value or expression is assigned to a variable or constant.\n",
    " - The difference is that expression itself is assigned to a variable and expression is a sequence of operations. \n",
    " <br/><br/>\n",
    "  - Example: spam = 10 * 5\n",
    "  - here \" spam = 10 * 5 \" is a assignment statement whereas the \" 10 * 5\" is an expression."
   ]
  },
  {
   "cell_type": "markdown",
   "id": "b9de6cd5",
   "metadata": {},
   "source": [
    "--------------------------------------------------"
   ]
  },
  {
   "attachments": {},
   "cell_type": "markdown",
   "id": "2cc0f930",
   "metadata": {},
   "source": [
    "#### 6. After running the following code, what does the variable bacon contain?\n",
    "bacon = 22\n",
    "<br/>\n",
    "bacon + 1\n",
    "\n",
    "- Ans: bacon = 22 (stillthe changes valuse was not assigned to bacon so it remains same)"
   ]
  },
  {
   "cell_type": "code",
   "execution_count": null,
   "id": "49e2e9d3",
   "metadata": {},
   "outputs": [],
   "source": [
    "bacon =22"
   ]
  },
  {
   "cell_type": "code",
   "execution_count": null,
   "id": "a3f135ba",
   "metadata": {},
   "outputs": [
    {
     "data": {
      "text/plain": [
       "23"
      ]
     },
     "execution_count": 5,
     "metadata": {},
     "output_type": "execute_result"
    }
   ],
   "source": [
    "bacon + 1"
   ]
  },
  {
   "cell_type": "code",
   "execution_count": null,
   "id": "89dabfb1",
   "metadata": {},
   "outputs": [
    {
     "name": "stdout",
     "output_type": "stream",
     "text": [
      "22\n"
     ]
    }
   ],
   "source": [
    "print(bacon)"
   ]
  },
  {
   "cell_type": "markdown",
   "id": "91f49cab",
   "metadata": {},
   "source": [
    "---------------------------------------------------"
   ]
  },
  {
   "cell_type": "markdown",
   "id": "f862c333",
   "metadata": {},
   "source": [
    "#### 7. What should the values of the following two terms be?\n",
    "'spam' + 'spamspam'<br/>\n",
    "'spam' * 3\n",
    "\n",
    "##### Ans: \n",
    "- 'spam' + 'spamspam' = 'spamspamspam'\n",
    "- 'spam' * 3  = 'spamspamspam'"
   ]
  },
  {
   "cell_type": "code",
   "execution_count": 8,
   "id": "3151d632",
   "metadata": {},
   "outputs": [
    {
     "data": {
      "text/plain": [
       "'spamspamspam'"
      ]
     },
     "execution_count": 8,
     "metadata": {},
     "output_type": "execute_result"
    }
   ],
   "source": [
    "'spam' + 'spamspam'"
   ]
  },
  {
   "cell_type": "code",
   "execution_count": 9,
   "id": "db427809",
   "metadata": {},
   "outputs": [
    {
     "data": {
      "text/plain": [
       "'spamspamspam'"
      ]
     },
     "execution_count": 9,
     "metadata": {},
     "output_type": "execute_result"
    }
   ],
   "source": [
    "'spam' * 3"
   ]
  },
  {
   "cell_type": "markdown",
   "id": "91569ec5",
   "metadata": {},
   "source": [
    "----------------------------------------"
   ]
  },
  {
   "attachments": {},
   "cell_type": "markdown",
   "id": "de84c8e1",
   "metadata": {},
   "source": [
    "#### 8. Why is eggs a valid variable name while 100 is invalid?\n",
    "\n",
    "- A variable name must start with a alphabate or underscore '_'\n"
   ]
  },
  {
   "cell_type": "markdown",
   "id": "7b5be4da",
   "metadata": {},
   "source": [
    "-----------------------------------------"
   ]
  },
  {
   "attachments": {},
   "cell_type": "markdown",
   "id": "a0dd0a52",
   "metadata": {},
   "source": [
    "#### 9. What three functions can be used to get the integer, floating-point number, or string version of a value?\n",
    "\n",
    "- Ans: Typecasting\n",
    "- int    : int()\n",
    "- float  : float()\n",
    "- string : str()"
   ]
  },
  {
   "cell_type": "code",
   "execution_count": null,
   "id": "e068aecf",
   "metadata": {},
   "outputs": [
    {
     "data": {
      "text/plain": [
       "12"
      ]
     },
     "execution_count": 12,
     "metadata": {},
     "output_type": "execute_result"
    }
   ],
   "source": [
    "int(100.45)"
   ]
  },
  {
   "cell_type": "code",
   "execution_count": null,
   "id": "3432589c",
   "metadata": {},
   "outputs": [
    {
     "data": {
      "text/plain": [
       "1234"
      ]
     },
     "execution_count": 13,
     "metadata": {},
     "output_type": "execute_result"
    }
   ],
   "source": [
    "int(\"543546\")"
   ]
  },
  {
   "cell_type": "code",
   "execution_count": null,
   "id": "9036134a",
   "metadata": {},
   "outputs": [
    {
     "data": {
      "text/plain": [
       "123.0"
      ]
     },
     "execution_count": 15,
     "metadata": {},
     "output_type": "execute_result"
    }
   ],
   "source": [
    "float(10)"
   ]
  },
  {
   "cell_type": "code",
   "execution_count": 16,
   "id": "5d4016ba",
   "metadata": {},
   "outputs": [
    {
     "data": {
      "text/plain": [
       "'123'"
      ]
     },
     "execution_count": 16,
     "metadata": {},
     "output_type": "execute_result"
    }
   ],
   "source": [
    "str(12345)"
   ]
  },
  {
   "cell_type": "code",
   "execution_count": null,
   "id": "d3db6760",
   "metadata": {},
   "outputs": [
    {
     "data": {
      "text/plain": [
       "'(56+7j)'"
      ]
     },
     "execution_count": 21,
     "metadata": {},
     "output_type": "execute_result"
    }
   ],
   "source": [
    "str(56 + 7thushan)"
   ]
  },
  {
   "cell_type": "markdown",
   "id": "cb959c68",
   "metadata": {},
   "source": [
    "-----------------------------------------------"
   ]
  },
  {
   "attachments": {},
   "cell_type": "markdown",
   "id": "bf35e604",
   "metadata": {},
   "source": [
    "#### 10. Why does this expression cause an error? How can you fix it?\n",
    "'I have eaten ' + 99 + ' burritos.'\n",
    "\n",
    "- Ans: concatanation operation between string and int is not possbile. it will throw an error\n",
    "- To fix this error we can typecast the int value using str(99) or we can keep it as \"99\"/'99'"
   ]
  },
  {
   "cell_type": "code",
   "execution_count": null,
   "id": "dd768f90",
   "metadata": {},
   "outputs": [
    {
     "ename": "TypeError",
     "evalue": "can only concatenate str (not \"int\") to str",
     "output_type": "error",
     "traceback": [
      "\u001b[1;31m---------------------------------------------------------------------------\u001b[0m",
      "\u001b[1;31mTypeError\u001b[0m                                 Traceback (most recent call last)",
      "\u001b[1;32mC:\\Users\\CHANDA~1\\AppData\\Local\\Temp/ipykernel_4724/3635020549.py\u001b[0m in \u001b[0;36m<module>\u001b[1;34m\u001b[0m\n\u001b[0;32m      1\u001b[0m \u001b[1;31m## Error\u001b[0m\u001b[1;33m\u001b[0m\u001b[1;33m\u001b[0m\u001b[0m\n\u001b[0;32m      2\u001b[0m \u001b[1;33m\u001b[0m\u001b[0m\n\u001b[1;32m----> 3\u001b[1;33m \u001b[1;34m'I have eaten '\u001b[0m \u001b[1;33m+\u001b[0m \u001b[1;36m99\u001b[0m \u001b[1;33m+\u001b[0m \u001b[1;34m' burritos.'\u001b[0m\u001b[1;33m\u001b[0m\u001b[1;33m\u001b[0m\u001b[0m\n\u001b[0m",
      "\u001b[1;31mTypeError\u001b[0m: can only concatenate str (not \"int\") to str"
     ]
    }
   ],
   "source": [
    "## Error\n",
    "\n",
    "'I have eaten ' + 99 + ' burritos.'"
   ]
  },
  {
   "cell_type": "code",
   "execution_count": null,
   "id": "4b816a81",
   "metadata": {},
   "outputs": [
    {
     "data": {
      "text/plain": [
       "'I have eaten 99 burritos.'"
      ]
     },
     "execution_count": 26,
     "metadata": {},
     "output_type": "execute_result"
    }
   ],
   "source": [
    "## solved\n",
    "\n",
    "'I have eaten ' + str(99) + ' burritos.'"
   ]
  },
  {
   "cell_type": "code",
   "execution_count": null,
   "id": "a89a25ce",
   "metadata": {},
   "outputs": [],
   "source": []
  }
 ],
 "metadata": {
  "kernelspec": {
   "display_name": "Python 3",
   "language": "python",
   "name": "python3"
  },
  "language_info": {
   "codemirror_mode": {
    "name": "ipython",
    "version": 3
   },
   "file_extension": ".py",
   "mimetype": "text/x-python",
   "name": "python",
   "nbconvert_exporter": "python",
   "pygments_lexer": "ipython3",
   "version": "3.9.13"
  },
  "vscode": {
   "interpreter": {
    "hash": "39e1d90bc9060d2ab7b05f557ead79f8c6bd372beba210d0a22c76db53c89137"
   }
  }
 },
 "nbformat": 4,
 "nbformat_minor": 5
}
