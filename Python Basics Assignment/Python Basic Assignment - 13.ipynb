{
 "cells": [
  {
   "attachments": {},
   "cell_type": "markdown",
   "id": "fb8d528b",
   "metadata": {},
   "source": [
    "## Assignment-13\n",
    "--------------"
   ]
  },
  {
   "attachments": {},
   "cell_type": "markdown",
   "id": "a63979c7",
   "metadata": {},
   "source": [
    "### 1.What advantages do Excel spreadsheets have over CSV spreadsheets?\n",
    "\n",
    "Reading large dataset is much easier in excel compared to csv, Excel provides the option for linking the data from external sources but no such feature available in csv.\n",
    "\n"
   ]
  },
  {
   "cell_type": "markdown",
   "id": "ae80d87a",
   "metadata": {},
   "source": [
    "### 2.What do you pass to csv.reader() and csv.writer() to create reader and writer objects?\n",
    "\n",
    "file object\n",
    "\n"
   ]
  },
  {
   "attachments": {},
   "cell_type": "markdown",
   "id": "29ec1161",
   "metadata": {},
   "source": [
    "### 3.What modes do File objects for reader and writer objects need to be opened in?\n",
    "\n",
    "- 'r'(read mode) for reader objects and \n",
    "- 'w'(write mode) for writer objects"
   ]
  },
  {
   "cell_type": "markdown",
   "id": "6077bfbc",
   "metadata": {},
   "source": [
    "### 4.What method takes a list argument and writes it to a CSV file?\n",
    "\n",
    "writerow() method of csv.writer()\n",
    "\n"
   ]
  },
  {
   "cell_type": "code",
   "execution_count": null,
   "id": "71699b44",
   "metadata": {},
   "outputs": [],
   "source": [
    "import csv\n",
    "\n",
    "# list of data to write to CSV file\n",
    "data = [\n",
    "    ['Name', 'Age', 'Gender'],\n",
    "    ['Alice', 25, 'Female'],\n",
    "    ['Bob', 30, 'Male'],\n",
    "    ['Charlie', 35, 'Male']\n",
    "]\n",
    "\n",
    "# open CSV file for writing\n",
    "with open('example.csv', 'w', newline='') as csvfile:\n",
    "    # create CSV writer object\n",
    "    csvwriter = csv.writer(csvfile)\n",
    "    \n",
    "    # write data to CSV file\n",
    "    for row in data:\n",
    "        csvwriter.writerow(row)"
   ]
  },
  {
   "cell_type": "markdown",
   "id": "bd098055",
   "metadata": {},
   "source": [
    "### 5.What do the keyword arguments delimiter and line terminator do?\n",
    "\n",
    "delimiter sets the character between cells on a row. line terminator sets the character that comes at the end of a row.\n",
    "\n"
   ]
  },
  {
   "cell_type": "markdown",
   "id": "aa52e374",
   "metadata": {},
   "source": [
    "### 6.What function takes a string of JSON data and returns a Python data structure?\n",
    "\n",
    "json.loads()\n",
    "\n"
   ]
  },
  {
   "cell_type": "markdown",
   "id": "5461ba5e",
   "metadata": {},
   "source": [
    "### 7.What function takes a Python data structure and returns a string of JSON data?\n",
    "\n",
    "json.dumps()"
   ]
  }
 ],
 "metadata": {
  "kernelspec": {
   "display_name": "Python 3 (ipykernel)",
   "language": "python",
   "name": "python3"
  },
  "language_info": {
   "codemirror_mode": {
    "name": "ipython",
    "version": 3
   },
   "file_extension": ".py",
   "mimetype": "text/x-python",
   "name": "python",
   "nbconvert_exporter": "python",
   "pygments_lexer": "ipython3",
   "version": "3.10.5"
  }
 },
 "nbformat": 4,
 "nbformat_minor": 5
}
