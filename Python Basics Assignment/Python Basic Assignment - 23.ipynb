{
 "cells": [
  {
   "attachments": {},
   "cell_type": "markdown",
   "id": "442604fe",
   "metadata": {},
   "source": [
    "## Assignment-23\n",
    "----------------"
   ]
  },
  {
   "attachments": {},
   "cell_type": "markdown",
   "id": "d1e76de5",
   "metadata": {},
   "source": [
    "### 1. What is the result of the code, and why?"
   ]
  },
  {
   "cell_type": "code",
   "execution_count": 1,
   "id": "072b6382",
   "metadata": {},
   "outputs": [
    {
     "name": "stdout",
     "output_type": "stream",
     "text": [
      "1 2 8\n"
     ]
    }
   ],
   "source": [
    "def func(a, b=6, c=8):\n",
    "    print(a, b, c)\n",
    "func(1, 2)"
   ]
  },
  {
   "attachments": {},
   "cell_type": "markdown",
   "id": "0b03c4a3",
   "metadata": {},
   "source": [
    "func(1, 2) will print 1 2 8<br>\n",
    "in function func definition, the value of third parameter c is by default 8 if not passed explicitly"
   ]
  },
  {
   "attachments": {},
   "cell_type": "markdown",
   "id": "e915e7b4",
   "metadata": {},
   "source": [
    "### 2. What is the result of this code, and why?\n"
   ]
  },
  {
   "cell_type": "code",
   "execution_count": 2,
   "id": "6d6d7a73",
   "metadata": {},
   "outputs": [
    {
     "name": "stdout",
     "output_type": "stream",
     "text": [
      "1 2 3\n"
     ]
    }
   ],
   "source": [
    "def func(a, b, c=5):\n",
    "    print(a, b, c)\n",
    "func(1, c=3, b=2)"
   ]
  },
  {
   "attachments": {},
   "cell_type": "markdown",
   "id": "aeb753ec",
   "metadata": {},
   "source": [
    "- prints 1,2,3<br>\n",
    "since the value passed to a=1, b=2, c=3 <br>\n",
    "it takes the respective values for the named arguments irrespective of the order of values c and b\n"
   ]
  },
  {
   "attachments": {},
   "cell_type": "markdown",
   "id": "d050e8a3",
   "metadata": {},
   "source": [
    "### 3. How about this code: what is its result, and why?\n"
   ]
  },
  {
   "cell_type": "code",
   "execution_count": 3,
   "id": "954c6964",
   "metadata": {},
   "outputs": [
    {
     "name": "stdout",
     "output_type": "stream",
     "text": [
      "1 (2, 3)\n"
     ]
    }
   ],
   "source": [
    "def func(a, *pargs):\n",
    "    print(a, pargs)\n",
    "func(1, 2, 3)"
   ]
  },
  {
   "attachments": {},
   "cell_type": "markdown",
   "id": "2ef865bf",
   "metadata": {},
   "source": [
    "func(1, 2, 3) will print 1 (2, 3)<br> \n",
    "The first parameter passed to the func function will be assigned to parameter and Any other following arguments will be assigned to arbitary argument pargs which will be an iterable object of type tuple\n"
   ]
  },
  {
   "attachments": {},
   "cell_type": "markdown",
   "id": "5ffdc99f",
   "metadata": {},
   "source": [
    "### 4. What does this code print, and why?\n"
   ]
  },
  {
   "cell_type": "code",
   "execution_count": 4,
   "id": "0f8c74b4",
   "metadata": {},
   "outputs": [
    {
     "name": "stdout",
     "output_type": "stream",
     "text": [
      "1 {'c': 3, 'b': 2}\n"
     ]
    }
   ],
   "source": [
    "def func(a, **kargs):\n",
    "    print(a, kargs)\n",
    "func(a=1, c=3, b=2)"
   ]
  },
  {
   "attachments": {},
   "cell_type": "markdown",
   "id": "09376bf3",
   "metadata": {},
   "source": [
    "func(a=1, c=3, b=2) will print 1 {'c': 3, 'b': 2} <br>\n",
    "because the return type of kargs is a dictionary object"
   ]
  },
  {
   "attachments": {},
   "cell_type": "markdown",
   "id": "8ad2420f",
   "metadata": {},
   "source": [
    "### 5. What gets printed by this, and explain?\n"
   ]
  },
  {
   "cell_type": "code",
   "execution_count": 5,
   "id": "b31b9e9e",
   "metadata": {},
   "outputs": [
    {
     "name": "stdout",
     "output_type": "stream",
     "text": [
      "1 5 6 5\n"
     ]
    }
   ],
   "source": [
    "def func(a, b, c=8, d=5): \n",
    "    print(a, b, c, d)\n",
    "func(1, *(5, 6))"
   ]
  },
  {
   "attachments": {},
   "cell_type": "markdown",
   "id": "3d152dcc",
   "metadata": {},
   "source": [
    "func(1, *(5, 6)) will print 1 5 6 5<br> \n",
    "a will take the value of 1,<br>\n",
    "d will default to 5 as it is not passed, <br>\n",
    "*(5, 6) will be read as comma seperated values and assigned to b, c respectively"
   ]
  },
  {
   "attachments": {},
   "cell_type": "markdown",
   "id": "8899d2ac",
   "metadata": {},
   "source": [
    "### 6. what is the result of this, and explain?\n"
   ]
  },
  {
   "cell_type": "code",
   "execution_count": 19,
   "id": "37ce90aa",
   "metadata": {},
   "outputs": [
    {
     "data": {
      "text/plain": [
       "(1, ['x'], {'a': 'y'})"
      ]
     },
     "execution_count": 19,
     "metadata": {},
     "output_type": "execute_result"
    }
   ],
   "source": [
    "\n",
    "def func(a, b, c): a = 2; b[0] = 'x'; c['a'] = 'y'\n",
    "\n",
    "l=1; m=[1]; n={'a':0}\n",
    "func(l, m, n)\n",
    "\n",
    "l, m, n"
   ]
  },
  {
   "attachments": {},
   "cell_type": "markdown",
   "id": "764d7be4",
   "metadata": {},
   "source": [
    "The output will be: (1, ['x'], {'a': 'y'})<br>\n",
    "In the func function, a is assigned the value of 2,<br>\n",
    " but this does not affect the value of l outside of the function because a is a local variable in the function <br>\n",
    " However, b and c are both mutable objects (a list and a dictionary, respectively), <br>\n",
    " so any changes made to them inside the function will be reflected outside of the function\n"
   ]
  }
 ],
 "metadata": {
  "kernelspec": {
   "display_name": "Python 3 (ipykernel)",
   "language": "python",
   "name": "python3"
  },
  "language_info": {
   "codemirror_mode": {
    "name": "ipython",
    "version": 3
   },
   "file_extension": ".py",
   "mimetype": "text/x-python",
   "name": "python",
   "nbconvert_exporter": "python",
   "pygments_lexer": "ipython3",
   "version": "3.10.5"
  }
 },
 "nbformat": 4,
 "nbformat_minor": 5
}
