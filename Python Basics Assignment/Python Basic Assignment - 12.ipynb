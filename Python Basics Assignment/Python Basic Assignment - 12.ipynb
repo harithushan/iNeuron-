{
 "cells": [
  {
   "attachments": {},
   "cell_type": "markdown",
   "id": "058ebb3c",
   "metadata": {},
   "source": [
    "## Assignment-12\n",
    "-----------------"
   ]
  },
  {
   "attachments": {},
   "cell_type": "markdown",
   "id": "89bf1411",
   "metadata": {},
   "source": [
    "### 1.In what modes should the PdfFileReader() and PdfFileWriter() File objects will be opened?\n",
    "\n",
    "- PdfFileReader() should be opened in read-binary mode. \n",
    "- PdfFileWriter() should be opened in write-binary mode.\n",
    "\n",
    "### 2.From a PdfFileReader object, how do you get a Page object for page 5?\n",
    "\n",
    "PdfFileReader.getPage(2)\n",
    "\n",
    "### 3.What PdfFileReader variable stores the number of pages in the PDF document?\n",
    "\n",
    "num_pages = pdf_reader.getNumPages()\n",
    "\n",
    "### 4.If a PdfFileReader object’s PDF is encrypted with the password swordfish, what must you do before you can obtain Page objects from it?\n",
    "\n",
    " decrypt the PDF with the password \"swordfish\"\n",
    "- obj.decrypt(\"swordfish\")\n",
    "\n",
    "### 5.What methods do you use to rotate a page?\n",
    "\n",
    "- rotateClockwise() and \n",
    "- rotateCounterClockwise()\n",
    "\n",
    "### 6.What is the difference between a Run object and a Paragraph object?\n",
    "\n",
    "paragraps object is needed to get paragraph from a document, runs object is needed whenever text style changes in a paragraph.\n"
   ]
  },
  {
   "cell_type": "markdown",
   "id": "a4b365f6",
   "metadata": {},
   "source": [
    "### 7.How do you obtain a list of Paragraph objects for a Document object that’s stored in a variable named doc?\n",
    "\n",
    "\n",
    "doc.paragraphs\n"
   ]
  },
  {
   "cell_type": "code",
   "execution_count": null,
   "id": "c67b9ea5",
   "metadata": {},
   "outputs": [],
   "source": [
    "from docx import Document\n",
    "\n",
    "# create a Document object\n",
    "doc = Document('example.docx')\n",
    "\n",
    "# get a list of Paragraph objects\n",
    "paragraphs = []\n",
    "for para in doc.paragraphs:\n",
    "    paragraphs.append(para)\n",
    "\n",
    "# print the list of Paragraph objects\n",
    "print(paragraphs)"
   ]
  },
  {
   "cell_type": "markdown",
   "id": "fb57356b",
   "metadata": {},
   "source": [
    "### 8.What type of object has bold, underline, italic, strike, and outline variables?\n",
    "\n",
    "runs\n",
    "\n"
   ]
  },
  {
   "cell_type": "code",
   "execution_count": null,
   "id": "10b0d388",
   "metadata": {},
   "outputs": [],
   "source": [
    "from docx import Document\n",
    "\n",
    "# create a Document object\n",
    "doc = Document()\n",
    "\n",
    "# add a paragraph to the document with some formatting\n",
    "paragraph = doc.add_paragraph('This is some bold and underlined text.')\n",
    "paragraph.add_run(' This is some italic text.').italic = True\n",
    "\n",
    "# iterate over the runs in the paragraph\n",
    "for run in paragraph.runs:\n",
    "    print(run.text, run.bold, run.italic, run.underline)\n",
    "\n",
    "# save the document\n",
    "doc.save('example.docx')\n"
   ]
  },
  {
   "attachments": {},
   "cell_type": "markdown",
   "id": "68ed662a",
   "metadata": {},
   "source": [
    "### 9.What is the difference between False, True, and None for the bold variable?\n",
    "\n",
    "- True = bold is always enabled no matter what other styles are applied to the run, \n",
    "- False = bold is always disabled, \n",
    "- None = defaults to whatever the run's style set to\n"
   ]
  },
  {
   "cell_type": "markdown",
   "id": "5b204f98",
   "metadata": {},
   "source": [
    "### 10.How do you create a Document object for a new Word document?\n",
    "\n",
    "import docx\n",
    "\n",
    "doc=docx.Document(.docx file name)\n",
    "\n"
   ]
  },
  {
   "cell_type": "markdown",
   "id": "e2d7324e",
   "metadata": {},
   "source": [
    "### 11.How do you add a paragraph with the text 'Hello, there!' to a Document object stored in a variable named doc?\n",
    "\n",
    "doc.add_paragraph(\"Hello, there!\")\n",
    "\n"
   ]
  },
  {
   "cell_type": "code",
   "execution_count": null,
   "id": "b800b49c",
   "metadata": {},
   "outputs": [],
   "source": [
    "from docx import Document\n",
    "\n",
    "# create a Document object\n",
    "doc = Document()\n",
    "\n",
    "# add a paragraph with the text 'Hello, there!'\n",
    "paragraph = doc.add_paragraph('Hello, there!')\n",
    "\n",
    "# save the document\n",
    "doc.save('example.docx')\\\n"
   ]
  },
  {
   "cell_type": "markdown",
   "id": "800fbc85",
   "metadata": {},
   "source": [
    "### 12.What integers represent the levels of headings available in Word documents?\n",
    "\n",
    "0 to 4"
   ]
  }
 ],
 "metadata": {
  "kernelspec": {
   "display_name": "Python 3 (ipykernel)",
   "language": "python",
   "name": "python3"
  },
  "language_info": {
   "codemirror_mode": {
    "name": "ipython",
    "version": 3
   },
   "file_extension": ".py",
   "mimetype": "text/x-python",
   "name": "python",
   "nbconvert_exporter": "python",
   "pygments_lexer": "ipython3",
   "version": "3.10.5"
  }
 },
 "nbformat": 4,
 "nbformat_minor": 5
}
