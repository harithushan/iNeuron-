{
 "cells": [
  {
   "attachments": {},
   "cell_type": "markdown",
   "id": "6614d1c0",
   "metadata": {},
   "source": [
    "## Assignment-7\n",
    "--------------------"
   ]
  },
  {
   "cell_type": "markdown",
   "id": "2d522da2",
   "metadata": {},
   "source": [
    "### 1. What is the name of the feature responsible for generating Regex objects?\n",
    "\n",
    "##### Ans:\n",
    "\n",
    "re.compile()"
   ]
  },
  {
   "cell_type": "markdown",
   "id": "4f611bac",
   "metadata": {},
   "source": [
    "### 2. Why do raw strings often appear in Regex objects?\n",
    "\n",
    "##### Ans:\n",
    "\n",
    "Raw string notation keeps regular expression meaningful and confusion free. Without it every backslash(' \\ ') in regular expression would have to be prefixed with another one to escape it."
   ]
  },
  {
   "cell_type": "markdown",
   "id": "42098a4e",
   "metadata": {},
   "source": [
    "### 3.What is the return value of the search() method?\n",
    "\n",
    "##### Ans:\n",
    "\n",
    "It returns a match object if there is a match else returns none.\n",
    "\n"
   ]
  },
  {
   "cell_type": "markdown",
   "id": "9b1cae4d",
   "metadata": {},
   "source": [
    "### 4. From a Match item, how do you get the actual strings that match the pattern?\n",
    "\n",
    "##### Ans:\n",
    "\n",
    "group() method returns the actual string that match the pattern."
   ]
  },
  {
   "cell_type": "markdown",
   "id": "148284da",
   "metadata": {},
   "source": [
    "### 5. In the regex which created from the r'(\\d\\d\\d)-(\\d\\d\\d-\\d\\d\\d\\d)', what does group zero cover?Group 2? Group 1?\n",
    "\n",
    "##### Ans:\n",
    "\n",
    "- group 0 covers (\\d\\d\\d)-(\\d\\d\\d-\\d\\d\\d\\d)\n",
    "- group 1 covers (\\d\\d\\d)\n",
    "- group 2 covers (\\d\\d\\d-\\d\\d\\d\\d)"
   ]
  },
  {
   "cell_type": "markdown",
   "id": "7997d19f",
   "metadata": {},
   "source": [
    "### 6. In standard expression syntax, parentheses and intervals have distinct meanings. How can you tell a regex that you want it to fit real parentheses and periods?\n",
    "\n",
    "##### Ans:"
   ]
  },
  {
   "attachments": {},
   "cell_type": "markdown",
   "id": "624773c3",
   "metadata": {},
   "source": [
    "- To match a literal left parenthesis, use \\(.\n",
    "- To match a literal right parenthesis, use \\).\n",
    "\n",
    "For example, the regular expression \\(\\d+\\) would match any sequence of digits surrounded by parentheses, such as (123).\n",
    "\n",
    "To match a literal period (i.e., a dot), use \\..\n",
    "For example, the regular expression Mr\\. Smith would match the string Mr. Smith but not Mr Smith.\n",
    "\n",
    "Note that you can also use the raw string notation (r'') in Python to avoid having to escape backslashes twice. For example:"
   ]
  },
  {
   "cell_type": "code",
   "execution_count": 4,
   "id": "0a551191",
   "metadata": {},
   "outputs": [],
   "source": [
    "# \\.,  \\(,  \\)"
   ]
  },
  {
   "cell_type": "code",
   "execution_count": 1,
   "id": "4bf86334",
   "metadata": {},
   "outputs": [
    {
     "name": "stdout",
     "output_type": "stream",
     "text": [
      "['(123)']\n",
      "['Mr. Smith']\n"
     ]
    }
   ],
   "source": [
    "import re\n",
    "\n",
    "# Match a sequence of digits surrounded by parentheses\n",
    "pattern = r'\\(\\d+\\)'\n",
    "\n",
    "# Match a literal period followed by a space and a name\n",
    "pattern2 = r'Mr\\. Smith'\n",
    "\n",
    "# Search for matches in a string\n",
    "text = 'Hello (123) world. Mr. Smith is here.'\n",
    "matches = re.findall(pattern, text)\n",
    "matches2 = re.findall(pattern2, text)\n",
    "\n",
    "print(matches)    # Output: ['(123)']\n",
    "print(matches2)   # Output: ['Mr. Smith']\n"
   ]
  },
  {
   "attachments": {},
   "cell_type": "markdown",
   "id": "dc6620bc",
   "metadata": {},
   "source": [
    "### 7.The findall() method returns a string list or a list of string tuples. What causes it to return one of the two options?\n",
    "\n",
    "##### Ans:\n",
    "\n",
    "- If the regular expression contains no capturing groups (i.e., no parentheses), then findall() returns a list of strings, where each string is a match found in the input string.\n",
    "\n",
    "- If the regular expression contains one or more capturing groups (i.e., one or more sets of parentheses), then findall() returns a list of tuples, where each tuple represents a match found in the input string, and each element of the tuple corresponds to a capturing group in the regular expression.\n",
    "\n",
    "Example:\n",
    "\n"
   ]
  },
  {
   "cell_type": "code",
   "execution_count": 2,
   "id": "6f09cc14",
   "metadata": {},
   "outputs": [
    {
     "name": "stdout",
     "output_type": "stream",
     "text": [
      "['The', 'quick', 'brown', 'fox', 'jumps', 'over', 'the', 'lazy', 'dog']\n",
      "[]\n",
      "['over']\n"
     ]
    }
   ],
   "source": [
    "import re\n",
    "\n",
    "text = 'The quick brown fox jumps over the lazy dog'\n",
    "\n",
    "# Find all words in the text\n",
    "words = re.findall(r'\\w+', text)\n",
    "print(words)\n",
    "\n",
    "# Find all words that start with 'q' and end with 'x'\n",
    "matches = re.findall(r'\\bq\\w*x\\b', text)\n",
    "print(matches)\n",
    "\n",
    "# Find all words that start with a vowel and end with a consonant\n",
    "matches2 = re.findall(r'\\b([aeiou]\\w*[bcdfghjklmnpqrstvwxyz])\\b', text)\n",
    "print(matches2)\n"
   ]
  },
  {
   "attachments": {},
   "cell_type": "markdown",
   "id": "f22c2f2a",
   "metadata": {},
   "source": [
    "Finally, the third call to findall() \n",
    "\n",
    "- re.findall(r'\\b([aeiou])(\\w*)([bcdfghjklmnpqrstvwxyz])\\b', text)\n",
    "-  Find all words that start with a vowel and end with a consonant, and capture the first and last letter\n",
    "\n",
    "returns a list of tuples, where each tuple contains one string representing a word that starts with a vowel and ends with a consonant:"
   ]
  },
  {
   "cell_type": "code",
   "execution_count": 14,
   "id": "9ca4a621",
   "metadata": {},
   "outputs": [
    {
     "name": "stdout",
     "output_type": "stream",
     "text": [
      "[('o', 've', 'r')]\n"
     ]
    }
   ],
   "source": [
    "import re\n",
    "\n",
    "text = 'The quick brown fox jumps over the lazy dog'\n",
    "\n",
    "# Find all words that start with a vowel and end with a consonant, and capture the first and last letter\n",
    "matches = re.findall(r'\\b([aeiou])(\\w*)([bcdfghjklmnpqrstvwxyz])\\b', text)\n",
    "print(matches)\n",
    "\n"
   ]
  },
  {
   "cell_type": "markdown",
   "id": "ecdc3a53",
   "metadata": {},
   "source": [
    "### 8.In standard expressions, what does the | character mean?\n",
    "\n",
    "##### Ans:\n",
    "\n",
    "It means either or "
   ]
  },
  {
   "cell_type": "code",
   "execution_count": 15,
   "id": "30bd2d9f",
   "metadata": {},
   "outputs": [
    {
     "name": "stdout",
     "output_type": "stream",
     "text": [
      "['dog']\n"
     ]
    }
   ],
   "source": [
    "import re\n",
    "\n",
    "text = 'The quick brown fox jumps over the lazy dog'\n",
    "\n",
    "# Find all occurrences of \"cat\" or \"dog\"\n",
    "matches = re.findall(r'cat|dog', text)\n",
    "print(matches)\n"
   ]
  },
  {
   "attachments": {},
   "cell_type": "markdown",
   "id": "60fa4199",
   "metadata": {},
   "source": [
    "### 9.In regular expressions, what does the character stand for '?'\n",
    "\n",
    "##### Ans:\n",
    "\n",
    "- In regular expressions, the ? character is used to specify zero or one occurrence of the preceding character or group. It makes the preceding character or group optional.\n",
    "\n",
    "- For example, the pattern colou?r would match either \"color\" or \"colour\", because the ? makes the u optional.\n",
    "\n",
    "Here's an example code snippet using the ? character in a regex pattern:"
   ]
  },
  {
   "cell_type": "code",
   "execution_count": 16,
   "id": "4095b502",
   "metadata": {},
   "outputs": [
    {
     "name": "stdout",
     "output_type": "stream",
     "text": [
      "['color', 'colour']\n"
     ]
    }
   ],
   "source": [
    "import re\n",
    "\n",
    "text = 'The color of the sky is blue. The colour of the ocean is green.'\n",
    "\n",
    "# Find all occurrences of \"color\" or \"colour\"\n",
    "matches = re.findall(r'colou?r', text)\n",
    "print(matches)\n"
   ]
  },
  {
   "attachments": {},
   "cell_type": "markdown",
   "id": "00b77eb2",
   "metadata": {},
   "source": [
    "### 10. In regular expressions, what is the difference between the + and * characters?\n",
    "\n",
    "##### Ans:\n",
    "\n",
    "- ' + ' refers one or more occurences\n",
    "- ' * ' refers zero or more occurences.\n",
    "\n",
    "- In regular expressions, the + and * characters are used to specify the number of occurrences of the preceding character or group.\n",
    "\n",
    "- The * character specifies zero or more occurrences of the preceding character or group. For example, the pattern ab*c would match \"ac\", \"abc\", \"abbc\", \"abbbc\", and so on.\n",
    "\n",
    "- The + character, on the other hand, specifies one or more occurrences of the preceding character or group. For example, the pattern ab+c would match \"abc\", \"abbc\", \"abbbc\", and so on, but would not match \"ac\".\n"
   ]
  },
  {
   "cell_type": "code",
   "execution_count": 17,
   "id": "f391c18a",
   "metadata": {},
   "outputs": [
    {
     "name": "stdout",
     "output_type": "stream",
     "text": [
      "['abbc', 'abc', 'abbbbc', 'ac']\n",
      "['abbc', 'abc', 'abbbbc']\n"
     ]
    }
   ],
   "source": [
    "import re\n",
    "\n",
    "text = 'abbc abc abbbbc ac'\n",
    "\n",
    "# Find all occurrences of \"ab*c\"\n",
    "matches = re.findall(r'ab*c', text)\n",
    "print(matches)\n",
    "\n",
    "# Find all occurrences of \"ab+c\"\n",
    "matches = re.findall(r'ab+c', text)\n",
    "print(matches)\n"
   ]
  },
  {
   "cell_type": "markdown",
   "id": "de2077fd",
   "metadata": {},
   "source": [
    "### 11. What is the difference between {4} and {4,5} in regular expression?\n",
    "\n",
    "##### Ans:\n",
    "\n",
    "- {4} means preceding character is to be repeated 4 times.\n",
    "- {4,5} means preceding character is repeated minimum 4 times and maximum 5 times."
   ]
  },
  {
   "cell_type": "markdown",
   "id": "cae8ec6f",
   "metadata": {},
   "source": [
    "### 12. What do you mean by the \\d, \\w, and \\s shorthand character classes signify in regular expressions?\n",
    "\n",
    "##### Ans:\n",
    "\n",
    "- \\d returns a match where string contains digit(number from 0-9)\n",
    "- \\w returns a match where string contains any word character(character from a to Z, digit from 0 to 9 and underscore character)\n",
    "- \\s returns a match where string contains a whitespace character."
   ]
  },
  {
   "cell_type": "markdown",
   "id": "c6f09ee1",
   "metadata": {},
   "source": [
    "### 14. What is the difference between .? and .?\n",
    "\n",
    "##### Ans:\n",
    "\n",
    "- ' . ' accepts as many sequence as available(Greedy approach)\n",
    "- ' .? ' accepts the first matched sequence and then stops(Non-Greedy approach).\n",
    "\n"
   ]
  },
  {
   "cell_type": "markdown",
   "id": "82a40a48",
   "metadata": {},
   "source": [
    "### 15. What is the syntax for matching both numbers and lowercase letters with a character class?\n",
    "\n",
    "##### Ans:\n",
    "\n",
    "[a-z0-9]"
   ]
  },
  {
   "cell_type": "markdown",
   "id": "5cf0d83a",
   "metadata": {},
   "source": [
    "### 16. What is the procedure for making a normal expression in regax case insensitive?\n",
    "\n",
    "##### Ans:\n",
    "\n",
    "pass re.IGNORECASE to re.compile()"
   ]
  },
  {
   "cell_type": "markdown",
   "id": "a3f2bb8b",
   "metadata": {},
   "source": [
    "### 17. What does the . character normally match? What does it match if re.DOTALL is passed as 2nd argument in re.compile()?\n",
    "\n",
    "##### Ans:\n",
    "\n",
    "' . ' character normally pass any character except newline character. With the help of DOTALL, ' . ' character can match any character including newline.\n",
    "\n"
   ]
  },
  {
   "cell_type": "markdown",
   "id": "c6796f62",
   "metadata": {},
   "source": [
    "### 18. If numReg = re.compile(r'\\d+'), what will numReg.sub('X', '11 drummers, 10 pipers, five rings, 4 hen') return?\n",
    "\n",
    "##### Ans:\n",
    "\n",
    "'X drummers, X pipers, five rings, X hen'"
   ]
  },
  {
   "cell_type": "markdown",
   "id": "9f0399ac",
   "metadata": {},
   "source": [
    "### 19. What does passing re.VERBOSE as the 2nd argument to re.compile() allow to do?\n",
    "\n",
    "##### Ans:\n",
    "\n",
    "It allows to write regular expressin that look nicer and are more readable by allowing visually separate logical section of the pattern and add comments.\n",
    "\n"
   ]
  },
  {
   "attachments": {},
   "cell_type": "markdown",
   "id": "ad212e72",
   "metadata": {},
   "source": [
    "### 20. How would you write a regex that match a number with comma for every three digits? It must match the given following:\n",
    "'42'\n",
    "'1,234'\n",
    "'6,368,745'\n",
    "\n",
    "but not the following:\n",
    "'12,34,567' (which has only two digits between the commas)\n",
    "'1234' (which lacks commas)\n",
    "\n"
   ]
  },
  {
   "cell_type": "code",
   "execution_count": 18,
   "id": "fae3a3b0",
   "metadata": {},
   "outputs": [
    {
     "name": "stdout",
     "output_type": "stream",
     "text": [
      "42 matches\n",
      "1,234 matches\n",
      "6,368,745 matches\n",
      "12,34,567 does not match\n",
      "1234 does not match\n"
     ]
    }
   ],
   "source": [
    "import re\n",
    "\n",
    "strings = ['42', '1,234', '6,368,745', '12,34,567', '1234']\n",
    "\n",
    "pattern = r'^\\d{1,3}(,\\d{3})*$'\n",
    "\n",
    "for s in strings:\n",
    "    if re.match(pattern, s):\n",
    "        print(s, 'matches')\n",
    "    else:\n",
    "        print(s, 'does not match')\n"
   ]
  },
  {
   "attachments": {},
   "cell_type": "markdown",
   "id": "3e2ff6e8",
   "metadata": {},
   "source": [
    "### 21 .How would you write a regex that matches the full name of someone whose last name is Watanabe? You can assume that the first name that comes before it will always be one word that begins with a capital letter. \n",
    "\n",
    "- The regex must match the following:\n",
    "\n",
    "'Haruto Watanabe'\n",
    "\n",
    "'Alice Watanabe'\n",
    "\n",
    "'RoboCop Watanabe'\n",
    "\n",
    "- but not the following:\n",
    "\n",
    "'haruto Watanabe' (where the first name is not capitalized)\n",
    "\n",
    "'Mr. Watanabe' (where the preceding word has a nonletter character)\n",
    "\n",
    "'Watanabe' (which has no first name)\n",
    "\n",
    "'Haruto watanabe' (where Watanabe is not capitalized)\n"
   ]
  },
  {
   "cell_type": "code",
   "execution_count": 20,
   "id": "d8e4118b",
   "metadata": {},
   "outputs": [
    {
     "name": "stdout",
     "output_type": "stream",
     "text": [
      "Haruto Watanabe matches\n",
      "Alice Watanabe matches\n",
      "RoboCop Watanabe does not match\n",
      "haruto Watanabe does not match\n",
      "Mr. Watanabe does not match\n",
      "Watanabe does not match\n",
      "Haruto watanabe does not match\n"
     ]
    }
   ],
   "source": [
    "import re\n",
    "\n",
    "strings = ['Haruto Watanabe', 'Alice Watanabe', 'RoboCop Watanabe', 'haruto Watanabe', 'Mr. Watanabe', 'Watanabe', 'Haruto watanabe']\n",
    "\n",
    "pattern = r'^[A-Z][a-z]*\\sWatanabe$'\n",
    "\n",
    "for s in strings:\n",
    "    if re.match(pattern, s):\n",
    "        print(s, 'matches')\n",
    "    else:\n",
    "        print(s, 'does not match')\n"
   ]
  },
  {
   "attachments": {},
   "cell_type": "markdown",
   "id": "983e9557",
   "metadata": {},
   "source": [
    "### 22. How would you write a regex that matches a sentence where the first word is either Alice, Bob, or Carol; the second word is either eats, pets, or throws; the third word is apples, cats, or baseballs; and the sentence ends with a period? This regex should be case-insensitive. \n",
    "\n",
    "- It must match the following:\n",
    "\n",
    "'Alice eats apples.'\n",
    "\n",
    "'Bob pets cats.'\n",
    "\n",
    "'Carol throws baseballs.'\n",
    "\n",
    "'Alice throws Apples.'\n",
    "\n",
    "'BOB EATS CATS.'\n",
    "\n",
    "- but not the following:\n",
    "\n",
    "'RoboCop eats apples.'\n",
    "\n",
    "'ALICE THROWS FOOTBALLS.'\n",
    "\n",
    "'Carol eats 7 cats.'\n"
   ]
  },
  {
   "cell_type": "code",
   "execution_count": 28,
   "id": "f6211b66",
   "metadata": {},
   "outputs": [
    {
     "name": "stdout",
     "output_type": "stream",
     "text": [
      "'Alice eats apples.' matches\n",
      "'Bob pets cats.' matches\n",
      "'Carol throws baseballs.' matches\n",
      "'Alice throws Apples.' matches\n",
      "'BOB EATS CATS.' matches\n",
      "'RoboCop eats apples.' does not match\n",
      "'ALICE THROWS FOOTBALLS.' does not match\n",
      "'Carol eats 7 cats.' does not match\n"
     ]
    }
   ],
   "source": [
    "import re\n",
    "\n",
    "strings = ['Alice eats apples.', 'Bob pets cats.', 'Carol throws baseballs.', 'Alice throws Apples.', 'BOB EATS CATS.', 'RoboCop eats apples.', 'ALICE THROWS FOOTBALLS.', 'Carol eats 7 cats.']\n",
    "\n",
    "pattern = r'^(Alice|Bob|Carol)\\s+(eats|pets|throws)\\s+(apples|cats|baseballs)\\.\\s*$'\n",
    "\n",
    "for s in strings:\n",
    "    if re.match(pattern, s, re.IGNORECASE):\n",
    "        print(repr(s), 'matches')\n",
    "    else:\n",
    "        print(repr(s), 'does not match')\n"
   ]
  },
  {
   "cell_type": "code",
   "execution_count": null,
   "id": "d0e74aff",
   "metadata": {},
   "outputs": [],
   "source": []
  }
 ],
 "metadata": {
  "kernelspec": {
   "display_name": "Python 3",
   "language": "python",
   "name": "python3"
  },
  "language_info": {
   "codemirror_mode": {
    "name": "ipython",
    "version": 3
   },
   "file_extension": ".py",
   "mimetype": "text/x-python",
   "name": "python",
   "nbconvert_exporter": "python",
   "pygments_lexer": "ipython3",
   "version": "3.10.5"
  },
  "vscode": {
   "interpreter": {
    "hash": "39e1d90bc9060d2ab7b05f557ead79f8c6bd372beba210d0a22c76db53c89137"
   }
  }
 },
 "nbformat": 4,
 "nbformat_minor": 5
}
