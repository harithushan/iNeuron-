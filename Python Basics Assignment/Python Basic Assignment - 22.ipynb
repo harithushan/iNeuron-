{
 "cells": [
  {
   "attachments": {},
   "cell_type": "markdown",
   "id": "07f1ad0f",
   "metadata": {},
   "source": [
    "## Assignment-22\n",
    "----------------"
   ]
  },
  {
   "cell_type": "markdown",
   "id": "b35b8007",
   "metadata": {},
   "source": [
    "### 1. What is the result of the code, and explain?"
   ]
  },
  {
   "attachments": {},
   "cell_type": "markdown",
   "id": "0a644725",
   "metadata": {},
   "source": [
    "X = 'iNeuron'<br>\n",
    "def func():<br>\n",
    "&nbsp;print(X)<br>\n",
    "\n",
    "func()<br>"
   ]
  },
  {
   "cell_type": "code",
   "execution_count": 1,
   "id": "b3bdf103",
   "metadata": {},
   "outputs": [
    {
     "name": "stdout",
     "output_type": "stream",
     "text": [
      "iNeuron\n"
     ]
    }
   ],
   "source": [
    "X = 'iNeuron'\n",
    "def func():\n",
    "    print(X)\n",
    "func()"
   ]
  },
  {
   "attachments": {},
   "cell_type": "markdown",
   "id": "e28a809b",
   "metadata": {},
   "source": [
    "The above program will print 'iNeuron'<br>\n",
    "Since there is no local variable X in the function and the global variable X will be called'"
   ]
  },
  {
   "cell_type": "markdown",
   "id": "0ba357ea",
   "metadata": {},
   "source": [
    "### 2. What is the result of the code, and explain?"
   ]
  },
  {
   "attachments": {},
   "cell_type": "markdown",
   "id": "e92096cb",
   "metadata": {},
   "source": [
    "X = 'iNeuron'<br>\n",
    "def func():<br>\n",
    "&nbsp;X = 'NI!'<br>\n",
    "\n",
    "func()<br>\n",
    "print(X)<br>"
   ]
  },
  {
   "cell_type": "code",
   "execution_count": 2,
   "id": "e262e124",
   "metadata": {},
   "outputs": [
    {
     "name": "stdout",
     "output_type": "stream",
     "text": [
      "iNeuron\n"
     ]
    }
   ],
   "source": [
    "X = 'iNeuron'\n",
    "def func():\n",
    "    X='NI!'\n",
    "func()\n",
    "print(X)"
   ]
  },
  {
   "attachments": {},
   "cell_type": "markdown",
   "id": "9c8ebdaf",
   "metadata": {},
   "source": [
    "The program will print 'iNeuron' to the console\n",
    "\n",
    "As the statement X='NI!' will be updating the local value X, but the global variable X will be unchanged"
   ]
  },
  {
   "cell_type": "markdown",
   "id": "66646708",
   "metadata": {},
   "source": [
    "### 3. What does this code print, and why?"
   ]
  },
  {
   "attachments": {},
   "cell_type": "markdown",
   "id": "9e4f840a",
   "metadata": {},
   "source": [
    "X = 'iNeuron'<br>\n",
    "def func():<br>\n",
    "&nbsp;X = 'NI'<br>\n",
    "&nbsp;print(X)<br>\n",
    "\n",
    "func()<br>\n",
    "print(X)<br>"
   ]
  },
  {
   "cell_type": "code",
   "execution_count": 3,
   "id": "65776999",
   "metadata": {},
   "outputs": [
    {
     "name": "stdout",
     "output_type": "stream",
     "text": [
      "NI\n",
      "iNeuron\n"
     ]
    }
   ],
   "source": [
    "X = 'iNeuron'\n",
    "def func():\n",
    "    X = 'NI'\n",
    "    print(X)\n",
    "\n",
    "func()\n",
    "print(X)"
   ]
  },
  {
   "attachments": {},
   "cell_type": "markdown",
   "id": "48d87b04",
   "metadata": {},
   "source": [
    "The above program will print 'NI' followed by 'iNeuron' to the console <br>\n",
    "as the statement X='NI' will be updating the local value X and then prints<br>\n",
    "but the global variable X will be unchanged and the next print statement will print the global variable X value which is iNeuron"
   ]
  },
  {
   "cell_type": "markdown",
   "id": "b6248962",
   "metadata": {},
   "source": [
    "### 4. What output does this code produce? Why?"
   ]
  },
  {
   "attachments": {},
   "cell_type": "markdown",
   "id": "697401ef",
   "metadata": {},
   "source": [
    "X = 'iNeuron'<br>\n",
    "def func():<br>\n",
    "&nbsp;&nbsp;global X<br>\n",
    "&nbsp;&nbsp;X = 'NI'<br>\n",
    "\n",
    "func()<br>\n",
    "print(X)<br>"
   ]
  },
  {
   "cell_type": "code",
   "execution_count": 4,
   "id": "202d264a",
   "metadata": {},
   "outputs": [
    {
     "name": "stdout",
     "output_type": "stream",
     "text": [
      "NI\n"
     ]
    }
   ],
   "source": [
    "X = 'iNeuron'\n",
    "def func():\n",
    "    global X\n",
    "    X = 'NI'\n",
    "func()\n",
    "print(X)"
   ]
  },
  {
   "attachments": {},
   "cell_type": "markdown",
   "id": "e596165c",
   "metadata": {},
   "source": [
    "This will print 'NI' to the console. The statement 'global' X will ensure the func function uses the global variable instead of a local variable with name X. so the assignment statement updates the global varaible X value to 'NI'"
   ]
  },
  {
   "cell_type": "markdown",
   "id": "f6133b02",
   "metadata": {},
   "source": [
    "### 5. What about this code—what’s the output, and why?"
   ]
  },
  {
   "attachments": {},
   "cell_type": "markdown",
   "id": "1e96c83e",
   "metadata": {},
   "source": [
    "X = 'iNeuron'<br>\n",
    "def func():<br>\n",
    "&nbsp;&nbsp;&nbsp;X = 'NI'<br>\n",
    "&nbsp;&nbsp;&nbsp;def nested():<br>\n",
    "&nbsp;&nbsp;&nbsp;print(X)<br>\n",
    "&nbsp;&nbsp;nested()<br>\n",
    "\n",
    "func()<br>\n",
    "X<br>"
   ]
  },
  {
   "cell_type": "code",
   "execution_count": 7,
   "id": "ca28537c",
   "metadata": {},
   "outputs": [
    {
     "name": "stdout",
     "output_type": "stream",
     "text": [
      "NI\n"
     ]
    },
    {
     "data": {
      "text/plain": [
       "'iNeuron'"
      ]
     },
     "execution_count": 7,
     "metadata": {},
     "output_type": "execute_result"
    }
   ],
   "source": [
    "X = 'iNeuron'\n",
    "def func():\n",
    "    X = 'NI'\n",
    "    def nested():\n",
    "        print(X)\n",
    "    nested()\n",
    "\n",
    "func()\n",
    "X"
   ]
  },
  {
   "cell_type": "markdown",
   "id": "20731c67",
   "metadata": {},
   "source": [
    "The above code will print NI followed by iNeuron, this is because the global varaible X is unchanged and the method nested has access to the X declared in its enclosing function func"
   ]
  },
  {
   "cell_type": "markdown",
   "id": "6e100960",
   "metadata": {},
   "source": [
    "### 6. How about this code: what is its output in Python 3, and explain?"
   ]
  },
  {
   "attachments": {},
   "cell_type": "markdown",
   "id": "3ebb7f5f",
   "metadata": {},
   "source": [
    "def func():<br>\n",
    "X = 'NI'<br>\n",
    "\n",
    "def nested():<br>\n",
    "&nbsp;&nbsp;&nbsp;&nbsp;nonlocal X<br>\n",
    "&nbsp;&nbsp;&nbsp;X = 'Spam'<br>\n",
    "&nbsp;&nbsp;nested()<br>\n",
    "&nbsp;&nbsp;print(X)<br>\n",
    "\n",
    "func()<br>"
   ]
  },
  {
   "cell_type": "code",
   "execution_count": 9,
   "id": "ea5105a4",
   "metadata": {},
   "outputs": [
    {
     "name": "stdout",
     "output_type": "stream",
     "text": [
      "Spam\n"
     ]
    }
   ],
   "source": [
    "def func():\n",
    "    X = 'NI'\n",
    "    def nested():\n",
    "        nonlocal X\n",
    "        X = 'Spam'\n",
    "    nested()\n",
    "    print(X)\n",
    "func()"
   ]
  },
  {
   "cell_type": "markdown",
   "id": "462c41cf",
   "metadata": {},
   "source": [
    "The above code will print Spam to the console, as they keyword nonlocal helps the function nested() to access the variable X from the function func"
   ]
  }
 ],
 "metadata": {
  "kernelspec": {
   "display_name": "Python 3 (ipykernel)",
   "language": "python",
   "name": "python3"
  },
  "language_info": {
   "codemirror_mode": {
    "name": "ipython",
    "version": 3
   },
   "file_extension": ".py",
   "mimetype": "text/x-python",
   "name": "python",
   "nbconvert_exporter": "python",
   "pygments_lexer": "ipython3",
   "version": "3.10.5"
  }
 },
 "nbformat": 4,
 "nbformat_minor": 5
}
