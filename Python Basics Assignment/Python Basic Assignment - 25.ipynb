{
 "cells": [
  {
   "attachments": {},
   "cell_type": "markdown",
   "id": "fd035e2f",
   "metadata": {},
   "source": [
    "## Assignment-25\n",
    "---------"
   ]
  },
  {
   "attachments": {},
   "cell_type": "markdown",
   "id": "3797a73f",
   "metadata": {},
   "source": [
    "### 1. What is the difference between enclosing a list comprehension in square brackets and parentheses?"
   ]
  },
  {
   "attachments": {},
   "cell_type": "markdown",
   "id": "7929c4ba",
   "metadata": {},
   "source": [
    "- List comprehension in square brackets produces a list object as output List \n",
    "- comprehension in oval parenthesis () produces a generator object List comprehension in flower parenthesis {} produces a set object"
   ]
  },
  {
   "cell_type": "code",
   "execution_count": 7,
   "id": "cc7e11a5",
   "metadata": {},
   "outputs": [
    {
     "name": "stdout",
     "output_type": "stream",
     "text": [
      "comprehension in squre brackets\n",
      " <class 'list'>\n",
      "[0, 1, 2, 3, 4, 5, 6, 7, 8, 9] \n",
      " --------------------------------------------------\n",
      "comprehension in paranthesis\n",
      " <class 'generator'>\n",
      "<generator object <genexpr> at 0x000002569F96E2D0> \n",
      " --------------------------------------------------\n",
      "comprehension in dictionary\n",
      " <class 'set'>\n",
      "{0, 1, 2, 3, 4, 5, 6, 7, 8, 9} \n",
      " --------------------------------------------------\n"
     ]
    }
   ],
   "source": [
    "temp1 = [i for i in range(10)] \n",
    "print(\"comprehension in squre brackets\\n\",type(temp1))\n",
    "print(temp1,\"\\n\",\"-\"*50) \n",
    "\n",
    "temp2 = (i for i in range(10)) \n",
    "print(\"comprehension in paranthesis\\n\",type(temp2)) \n",
    "print(temp2,\"\\n\",\"-\"*50) \n",
    "\n",
    "temp3= {i for i in range(10)} \n",
    "print(\"comprehension in dictionary\\n\",type(temp3))\n",
    "print(temp3,\"\\n\",\"-\"*50) \n"
   ]
  },
  {
   "attachments": {},
   "cell_type": "markdown",
   "id": "5ac886d4",
   "metadata": {},
   "source": [
    "### 2. What is the relationship between generators and iterators?"
   ]
  },
  {
   "attachments": {},
   "cell_type": "markdown",
   "id": "00049cec",
   "metadata": {},
   "source": [
    "- An iterator is an object which contains a countable number of values and it is used to iterate over iterable objects like list, tuples etc\n",
    "    \n",
    "    - Using an iterator- iter() keyword is used to create an iterator containing an iterable object. next() keyword is used to call the next element in the iterable object.\n",
    "\n",
    "- Generator It is another way of creating iterators in a simple way where it uses the keyword “yield” instead of returning it in a defined function Generators are implemented using a function containing yield return statement.\n",
    "\n",
    "    - Here, the yield function returns the data without affecting or exiting the function. It will return a sequence of data in an iterable format where we need to iterate over the sequence to use the data as they won’t store the entire sequence in the memory By using next() function we can iterate the output of generator function\n",
    "\n",
    "\n",
    "\n",
    "example :"
   ]
  },
  {
   "cell_type": "code",
   "execution_count": 9,
   "id": "f490171e",
   "metadata": {},
   "outputs": [],
   "source": [
    "# This function is a generator function that creates an iterator\n",
    "def count_up_to(n):\n",
    "    i = 1\n",
    "    while i <= n:\n",
    "        # The yield keyword is used to return a value from the generator function\n",
    "        yield i\n",
    "        i += 1"
   ]
  },
  {
   "cell_type": "code",
   "execution_count": 10,
   "id": "96fb9cc2",
   "metadata": {},
   "outputs": [
    {
     "name": "stdout",
     "output_type": "stream",
     "text": [
      "1\n",
      "2\n",
      "3\n"
     ]
    }
   ],
   "source": [
    "# We create an iterator from the generator function using the iter() function\n",
    "counter = iter(count_up_to(5))\n",
    "\n",
    "# We can now iterate over the iterator using the next() function\n",
    "print(next(counter))  # prints 1\n",
    "print(next(counter))  # prints 2\n",
    "print(next(counter))  # prints 3"
   ]
  },
  {
   "cell_type": "code",
   "execution_count": 11,
   "id": "5659d658",
   "metadata": {},
   "outputs": [
    {
     "name": "stdout",
     "output_type": "stream",
     "text": [
      "1\n",
      "2\n",
      "3\n",
      "4\n",
      "5\n"
     ]
    }
   ],
   "source": [
    "# We can also use a for loop to iterate over the iterator\n",
    "for i in count_up_to(5):\n",
    "    print(i)  # prints 1, 2, 3, 4, 5"
   ]
  },
  {
   "attachments": {},
   "cell_type": "markdown",
   "id": "a8dc29ba",
   "metadata": {},
   "source": [
    "### 3. What are the signs that a function is a generator function?\n"
   ]
  },
  {
   "attachments": {},
   "cell_type": "markdown",
   "id": "d2d0fb2f",
   "metadata": {},
   "source": [
    "1. It uses the yield keyword instead of return to return a value,If a function contains at least one yield statement (it may contain other yield or return statements), it becomes a generator function. Both yield and return will return some value from a function.\n",
    "\n",
    "2. When called, it returns a generator object instead of immediately executing the function body.\n",
    "3. It can be paused during execution, and resumed later from where it left off.\n",
    "4. It typically has a loop that generates a sequence of values using the yield keyword, rather than returning a single value."
   ]
  },
  {
   "attachments": {},
   "cell_type": "markdown",
   "id": "5c911c7a",
   "metadata": {},
   "source": [
    "### 4. What is the purpose of a yield statement?"
   ]
  },
  {
   "attachments": {},
   "cell_type": "markdown",
   "id": "5bc2b6ac",
   "metadata": {},
   "source": [
    "A yield statement looks much like a return statement, except that instead of stopping execution of the function and returning, yield instead provides a value to the code looping over the generator and pauses execution of the generator function\n"
   ]
  },
  {
   "attachments": {},
   "cell_type": "markdown",
   "id": "79ab0138",
   "metadata": {},
   "source": [
    "### 5. What is the relationship between map calls and list comprehensions? Make a comparison and contrast between the two.\n"
   ]
  },
  {
   "attachments": {},
   "cell_type": "markdown",
   "id": "b811668a",
   "metadata": {},
   "source": [
    "- Map function: Suppose we have a function and we want to compute this function for different values in a single line of code . This is where map() function plays its role. map() function returns a map object(which is an iterator) of the results after applying the given function to each item of a given iterable (list, tuple etc.)<br>\n",
    "\n",
    "If we already have a function defined, it is often good to use map For example, map(sum, myLists) is more neat than [sum(x) for x in myLists]. You gain the elegance of not having to make up a dummy variable (e.g. sum(x) for x... or sum() for ... or sum(readableName) for readableName...) which you have to type twice, just to iterate.\n",
    "\n",
    "- List Comprehension: List Comprehension is a substitute for the lambda function, map(), filter() and reduce()\n",
    "\n",
    "Comparision :\n",
    "\n",
    "1. List comprehension is more concise and easier to read as compared to map\n",
    "2. List comprehension allows filtering. In map, we have no such facility\n",
    "For example, to print all even numbers in range of 100, we can write [n for n in range(100) if n%2 == 0]. There is \n",
    "no alternate for it in map\n",
    "3. List comprehension are used when a list of results is required, where as map only returns a map object and does \n",
    "not return any list.\n",
    "4. List comprehension is faster than map when we need to evaluate expressions that are too long or complicated \n",
    "to express\n",
    "5. Map is faster in case of calling an already defined function (as no lambda is required)"
   ]
  },
  {
   "cell_type": "code",
   "execution_count": 12,
   "id": "72998d1d",
   "metadata": {},
   "outputs": [
    {
     "name": "stdout",
     "output_type": "stream",
     "text": [
      "[1, 4, 9, 16, 25]\n"
     ]
    }
   ],
   "source": [
    "# 1. example for map function\n",
    "\n",
    "# Create a list of numbers\n",
    "numbers = [1, 2, 3, 4, 5]\n",
    "\n",
    "# Use map to square each number in the list\n",
    "squared_numbers = list(map(lambda x: x**2, numbers))\n",
    "\n",
    "# Print the squared numbers\n",
    "print(squared_numbers)\n"
   ]
  },
  {
   "cell_type": "code",
   "execution_count": 13,
   "id": "1bbda769",
   "metadata": {},
   "outputs": [
    {
     "name": "stdout",
     "output_type": "stream",
     "text": [
      "['A', 'B', 'C', 'D']\n"
     ]
    }
   ],
   "source": [
    "# 2. example for comprehension\n",
    "\n",
    "# Create a list of names\n",
    "names = ['Alice', 'Bob', 'Charlie', 'David']\n",
    "\n",
    "# Use list comprehension to create a list of the first letter of each name\n",
    "first_letters = [name[0] for name in names]\n",
    "\n",
    "# Print the first letters\n",
    "print(first_letters)\n"
   ]
  },
  {
   "cell_type": "code",
   "execution_count": null,
   "id": "ed14fe0e",
   "metadata": {},
   "outputs": [],
   "source": []
  }
 ],
 "metadata": {
  "kernelspec": {
   "display_name": "Python 3 (ipykernel)",
   "language": "python",
   "name": "python3"
  },
  "language_info": {
   "codemirror_mode": {
    "name": "ipython",
    "version": 3
   },
   "file_extension": ".py",
   "mimetype": "text/x-python",
   "name": "python",
   "nbconvert_exporter": "python",
   "pygments_lexer": "ipython3",
   "version": "3.10.5"
  }
 },
 "nbformat": 4,
 "nbformat_minor": 5
}
