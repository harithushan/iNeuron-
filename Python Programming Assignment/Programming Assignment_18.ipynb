{
 "cells": [
  {
   "attachments": {},
   "cell_type": "markdown",
   "id": "c9cd2546",
   "metadata": {},
   "source": [
    "## Assignment_18\n",
    "-------------"
   ]
  },
  {
   "cell_type": "markdown",
   "id": "e747a296",
   "metadata": {},
   "source": [
    "### 1. Create a function that takes a list of non-negative integers and strings and return a new list without the strings."
   ]
  },
  {
   "cell_type": "code",
   "execution_count": 1,
   "id": "4bda136b",
   "metadata": {},
   "outputs": [
    {
     "name": "stdout",
     "output_type": "stream",
     "text": [
      "[1, 2]\n",
      "[1, 0, 15]\n",
      "[1, 2, 123]\n"
     ]
    }
   ],
   "source": [
    "def int_filter(lst):\n",
    "    return [i for i in lst if type(i) is int]\n",
    "\n",
    "print(int_filter([1, 2, 'a', 'b']))\n",
    "print(int_filter([1, 'a', 'b', 0, 15]))\n",
    "print(int_filter([1, 2, 'aasf', '1', '123', 123]))"
   ]
  },
  {
   "cell_type": "markdown",
   "id": "73266d86",
   "metadata": {},
   "source": [
    "### 2. The \"Reverser\" takes a string as input and returns that string in reverse order, with the opposite case."
   ]
  },
  {
   "cell_type": "code",
   "execution_count": 2,
   "id": "6fb41b34",
   "metadata": {},
   "outputs": [
    {
     "name": "stdout",
     "output_type": "stream",
     "text": [
      "DLROw OLLEh\n",
      "eSrEvEr\n",
      "RADAr\n"
     ]
    }
   ],
   "source": [
    "def Reverser(string):\n",
    "    return string[::-1].swapcase()\n",
    "\n",
    "print(Reverser('Hello World'))\n",
    "print(Reverser('ReVeRsE'))\n",
    "print(Reverser('Radar'))"
   ]
  },
  {
   "cell_type": "markdown",
   "id": "c86dd80a",
   "metadata": {},
   "source": [
    "### 3. You can assign variables from lists like this:"
   ]
  },
  {
   "cell_type": "code",
   "execution_count": 4,
   "id": "cabbb7b8",
   "metadata": {},
   "outputs": [
    {
     "name": "stdout",
     "output_type": "stream",
     "text": [
      "1\n",
      "[2, 3, 4, 5]\n",
      "6\n"
     ]
    }
   ],
   "source": [
    "lst = [1, 2, 3, 4, 5, 6]\n",
    "first = lst[0]\n",
    "middle = lst[1:-1]\n",
    "last = lst[-1]\n",
    "\n",
    "print(first)\n",
    "print(middle)\n",
    "print(last)"
   ]
  },
  {
   "attachments": {},
   "cell_type": "markdown",
   "id": "a9287dfa",
   "metadata": {},
   "source": [
    "you can assign variables from lists in a much more succinct way. Create variables first, middle and last from the given list using destructuring assignment (check the Resources tab for some examples), where:\n",
    "\n",
    "- first  ➞ 1\n",
    "- middle ➞ [2, 3, 4, 5]\n",
    "- last ➞ 6\n",
    "\n",
    "Your task is to unpack the list writeyourcodehere into three variables, being first, middle, and last, with middle being everything in between the first and last element. Then print all three variables.\n"
   ]
  },
  {
   "cell_type": "code",
   "execution_count": 6,
   "id": "4ba590fe",
   "metadata": {},
   "outputs": [
    {
     "name": "stdout",
     "output_type": "stream",
     "text": [
      "1\n",
      "[2, 3, 4, 5]\n",
      "6\n"
     ]
    }
   ],
   "source": [
    "writeyourcodehere = [1, 2, 3, 4, 5, 6]\n",
    "first, *middle, last = writeyourcodehere\n",
    "print(first)\n",
    "print(middle)\n",
    "print(last) "
   ]
  },
  {
   "cell_type": "markdown",
   "id": "09508af4",
   "metadata": {},
   "source": [
    "### 4. Write a function that calculates the factorial of a number recursively."
   ]
  },
  {
   "cell_type": "code",
   "execution_count": 5,
   "id": "b09a9d79",
   "metadata": {},
   "outputs": [
    {
     "name": "stdout",
     "output_type": "stream",
     "text": [
      "120\n",
      "6\n",
      "1\n",
      "1\n"
     ]
    }
   ],
   "source": [
    "def factorial(num):\n",
    "    if num <= 1:\n",
    "        return 1\n",
    "    else:\n",
    "        return num * factorial(num-1)\n",
    "    \n",
    "print(factorial(5))\n",
    "print(factorial(3))\n",
    "print(factorial(1))\n",
    "print(factorial(0))"
   ]
  },
  {
   "cell_type": "markdown",
   "id": "47187bad",
   "metadata": {},
   "source": [
    "### 5. Write a function that moves all elements of one type to the end of the list."
   ]
  },
  {
   "cell_type": "code",
   "execution_count": 7,
   "id": "ca6a0bcd",
   "metadata": {},
   "outputs": [
    {
     "name": "stdout",
     "output_type": "stream",
     "text": [
      "[3, 2, 4, 4, 1, 1]\n",
      "[7, 8, 1, 2, 3, 4, 9]\n",
      "['b', 'a', 'a', 'a']\n"
     ]
    }
   ],
   "source": [
    "def move_to_end(lst, element):\n",
    "    count = lst.count(element)  #Count of the element\n",
    "    lst = [x for x in lst if x != element]  #New list without the element\n",
    "    lst.extend([element] * count)  #extend method adds the element to the end of the list\n",
    "    return lst\n",
    "\n",
    "print(move_to_end([1, 3, 2, 4, 4, 1], 1))\n",
    "print(move_to_end([7, 8, 9, 1, 2, 3, 4], 9))\n",
    "print(move_to_end([\"a\", \"a\", \"a\", \"b\"], \"a\"))"
   ]
  },
  {
   "cell_type": "code",
   "execution_count": null,
   "id": "0b90cb71",
   "metadata": {},
   "outputs": [],
   "source": []
  }
 ],
 "metadata": {
  "kernelspec": {
   "display_name": "Python 3 (ipykernel)",
   "language": "python",
   "name": "python3"
  },
  "language_info": {
   "codemirror_mode": {
    "name": "ipython",
    "version": 3
   },
   "file_extension": ".py",
   "mimetype": "text/x-python",
   "name": "python",
   "nbconvert_exporter": "python",
   "pygments_lexer": "ipython3",
   "version": "3.10.5"
  }
 },
 "nbformat": 4,
 "nbformat_minor": 5
}
