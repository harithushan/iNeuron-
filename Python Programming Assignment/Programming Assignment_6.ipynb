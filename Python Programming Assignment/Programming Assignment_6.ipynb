{
 "cells": [
  {
   "attachments": {},
   "cell_type": "markdown",
   "id": "84a41a9f",
   "metadata": {},
   "source": [
    "## Assignment_6"
   ]
  },
  {
   "cell_type": "markdown",
   "id": "a4b40558",
   "metadata": {},
   "source": [
    "------------\n",
    "### 1. Write a Python Program to Display Fibonacci Sequence Using Recursion?"
   ]
  },
  {
   "cell_type": "code",
   "execution_count": 1,
   "id": "e1b8420c",
   "metadata": {},
   "outputs": [],
   "source": [
    "def fibo(a,b,c):\n",
    "    if c > 0:\n",
    "        c -= 1\n",
    "        print(a, end=' ')\n",
    "        temp = b\n",
    "        b = a + b\n",
    "        a = temp\n",
    "        fibo(a,b,c)"
   ]
  },
  {
   "cell_type": "code",
   "execution_count": 2,
   "id": "4dee60ad",
   "metadata": {},
   "outputs": [
    {
     "name": "stdout",
     "output_type": "stream",
     "text": [
      "0 1 1 2 3 5 8 13 21 34 "
     ]
    }
   ],
   "source": [
    "fibo(0,1,10)"
   ]
  },
  {
   "cell_type": "markdown",
   "id": "d7a57f60",
   "metadata": {},
   "source": [
    "-------------------\n",
    "### 2. Write a Python Program to Find Factorial of Number Using Recursion?"
   ]
  },
  {
   "cell_type": "code",
   "execution_count": 3,
   "id": "2cdea8e5",
   "metadata": {},
   "outputs": [],
   "source": [
    "def fact(n):\n",
    "    if n == 0:\n",
    "        return 1\n",
    "    else:\n",
    "        return n*fact(n-1)"
   ]
  },
  {
   "cell_type": "code",
   "execution_count": 4,
   "id": "fc5ec589",
   "metadata": {},
   "outputs": [
    {
     "data": {
      "text/plain": [
       "120"
      ]
     },
     "execution_count": 4,
     "metadata": {},
     "output_type": "execute_result"
    }
   ],
   "source": [
    "fact(5)"
   ]
  },
  {
   "cell_type": "code",
   "execution_count": 6,
   "id": "9cc54ac2",
   "metadata": {},
   "outputs": [
    {
     "data": {
      "text/plain": [
       "3628800"
      ]
     },
     "execution_count": 6,
     "metadata": {},
     "output_type": "execute_result"
    }
   ],
   "source": [
    "fact(10)"
   ]
  },
  {
   "attachments": {},
   "cell_type": "markdown",
   "id": "0357b86f",
   "metadata": {},
   "source": [
    "-------------\n",
    "### 3. Write a Python Program to calculate your Body Mass Index?\n",
    "\n",
    " - weight in kilograms (kg) and height in meters (m)\n",
    "\n",
    "1. Underweight: less than 18.5\n",
    "2. Normal weight: 18.5-24.9\n",
    "3. Overweight: 25.0-29.9\n",
    "4. Obesity: 30.0 and above\n"
   ]
  },
  {
   "cell_type": "code",
   "execution_count": 8,
   "id": "ae7411ea",
   "metadata": {},
   "outputs": [],
   "source": [
    "def bmi(height, weight):\n",
    "    bmi = weight/(height*height)\n",
    "    if bmi < 18.5:\n",
    "        return f\"bmi is {bmi} Underweight\"\n",
    "    elif bmi >= 18.5 and bmi < 25:\n",
    "        return f\"bmi is {bmi} Normal\"\n",
    "    elif bmi >= 25 and bmi < 30:\n",
    "        return f\"bmi is {bmi} Overweight\"\n",
    "    else:\n",
    "        return f\"bmi is {bmi} Obese\""
   ]
  },
  {
   "cell_type": "code",
   "execution_count": 19,
   "id": "b1ef7685",
   "metadata": {},
   "outputs": [
    {
     "data": {
      "text/plain": [
       "'bmi is 18.827160493827158 Normal'"
      ]
     },
     "execution_count": 19,
     "metadata": {},
     "output_type": "execute_result"
    }
   ],
   "source": [
    "bmi(1.8,61)"
   ]
  },
  {
   "cell_type": "markdown",
   "id": "96d344a4",
   "metadata": {},
   "source": [
    "--------------\n",
    "### 4. Write a Python Program to calculate the natural logarithm of any number?"
   ]
  },
  {
   "cell_type": "code",
   "execution_count": 35,
   "id": "967b521c",
   "metadata": {},
   "outputs": [
    {
     "name": "stdout",
     "output_type": "stream",
     "text": [
      "The natural logarithm of 100.0 is 4.61\n"
     ]
    }
   ],
   "source": [
    "import math\n",
    "\n",
    "def calculate_log(x):\n",
    "    try:\n",
    "        result = math.log(x)\n",
    "        return result\n",
    "    except ValueError:\n",
    "        print(\"Error: Cannot calculate logarithm of a negative number or zero.\")\n",
    "        return None\n",
    "    \n",
    "number = float(input(\"Enter a number: \"))\n",
    "logarithm = calculate_log(number)\n",
    "if logarithm is not None:\n",
    "    print(f\"The natural logarithm of {number} is {logarithm:.2f}\")"
   ]
  },
  {
   "cell_type": "markdown",
   "id": "11c0d92c",
   "metadata": {},
   "source": [
    "------------\n",
    "### 5. Write a Python Program for cube sum of first n natural numbers?\n"
   ]
  },
  {
   "cell_type": "code",
   "execution_count": 34,
   "id": "04a60dbe",
   "metadata": {},
   "outputs": [
    {
     "name": "stdout",
     "output_type": "stream",
     "text": [
      " + 1^3\n",
      " + 1^3 + 2^3\n",
      " + 1^3 + 2^3 + 3^3\n",
      " + 1^3 + 2^3 + 3^3 + 4^3\n",
      " + 1^3 + 2^3 + 3^3 + 4^3 + 5^3\n",
      " + 1^3 + 2^3 + 3^3 + 4^3 + 5^3 + 6^3\n",
      " + 1^3 + 2^3 + 3^3 + 4^3 + 5^3 + 6^3 + 7^3\n",
      " + 1^3 + 2^3 + 3^3 + 4^3 + 5^3 + 6^3 + 7^3 + 8^3\n",
      " + 1^3 + 2^3 + 3^3 + 4^3 + 5^3 + 6^3 + 7^3 + 8^3 + 9^3\n",
      " + 1^3 + 2^3 + 3^3 + 4^3 + 5^3 + 6^3 + 7^3 + 8^3 + 9^3 + 10^3\n",
      "The cube sum of the first 10 natural numbers is 3025\n"
     ]
    }
   ],
   "source": [
    "def cube_sum(n):\n",
    "    # Calculate the sum of cubes of first n natural numbers\n",
    "    sum = 0\n",
    "    str2=\"\"\n",
    "    for i in range(1, n+1):\n",
    "        str1=f\" + {i}^3\"\n",
    "        str2=str2+str1\n",
    "        print(str2,end=\"\\n\")\n",
    "        sum += i**3\n",
    "    return sum\n",
    "\n",
    "n = int(input(\"Enter a number: \"))\n",
    "result = cube_sum(n)\n",
    "print(f\"The cube sum of the first {n} natural numbers is {result}\")"
   ]
  },
  {
   "cell_type": "code",
   "execution_count": null,
   "id": "89f911e3",
   "metadata": {},
   "outputs": [],
   "source": []
  }
 ],
 "metadata": {
  "kernelspec": {
   "display_name": "Python 3 (ipykernel)",
   "language": "python",
   "name": "python3"
  },
  "language_info": {
   "codemirror_mode": {
    "name": "ipython",
    "version": 3
   },
   "file_extension": ".py",
   "mimetype": "text/x-python",
   "name": "python",
   "nbconvert_exporter": "python",
   "pygments_lexer": "ipython3",
   "version": "3.10.5"
  }
 },
 "nbformat": 4,
 "nbformat_minor": 5
}
