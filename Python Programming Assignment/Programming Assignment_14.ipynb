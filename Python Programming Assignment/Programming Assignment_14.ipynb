{
 "cells": [
  {
   "attachments": {},
   "cell_type": "markdown",
   "id": "9bf47949",
   "metadata": {},
   "source": [
    "## Assignment_14\n",
    "---------------------"
   ]
  },
  {
   "cell_type": "markdown",
   "id": "a8074819",
   "metadata": {},
   "source": [
    "### 1. Define a class with a generator which can iterate the numbers, which are divisible by 7, between a given range 0 and n."
   ]
  },
  {
   "cell_type": "code",
   "execution_count": 11,
   "id": "2ef28365",
   "metadata": {},
   "outputs": [
    {
     "name": "stdout",
     "output_type": "stream",
     "text": [
      "[0, 7, 14, 21, 28, 35, 42, 49, 56, 63, 70, 77, 84, 91, 98]\n"
     ]
    }
   ],
   "source": [
    "class DivisibleBySeven:\n",
    "    def __init__(self, n):\n",
    "        self.n = n\n",
    "\n",
    "    def divisible_by_seven_generator(self):\n",
    "        for num in range(self.n + 1):\n",
    "            if num % 7 == 0:\n",
    "                yield num\n",
    "\n",
    "divisible_by_seven = DivisibleBySeven(100)\n",
    "# Iterating  over the numbers divisible by 7 using the generator\n",
    "result = [num for num in divisible_by_seven.divisible_by_seven_generator()]\n",
    "print(result)"
   ]
  },
  {
   "cell_type": "markdown",
   "id": "8127371b",
   "metadata": {},
   "source": [
    "----------------\n",
    "### 2. Write a program to compute the frequency of the words from the input. The output should output after sorting the key alphanumerically."
   ]
  },
  {
   "cell_type": "code",
   "execution_count": 21,
   "id": "556f9307",
   "metadata": {},
   "outputs": [
    {
     "name": "stdout",
     "output_type": "stream",
     "text": [
      "am: 2\n",
      "an: 1\n",
      "and: 1\n",
      "aspiringg: 1\n",
      "data: 1\n",
      "engineering: 1\n",
      "graduate,: 1\n",
      "hari,: 1\n",
      "hello: 1\n",
      "hi: 3\n",
      "i: 2\n",
      "mechanichal: 1\n",
      "scientist: 1\n",
      "world,: 1\n"
     ]
    }
   ],
   "source": [
    "def compute_word_frequency(input_text):\n",
    "\n",
    "    words = input_text.split()# Splitting the text into words\n",
    "    frequency = {}# Creating a dictionary to store the frequency of each word\n",
    "    for word in words:# Iterating over the words\n",
    "        frequency[word] = frequency.get(word, 0) + 1# Updating the frequency of the word\n",
    "\n",
    "    sorted_words = sorted(frequency.keys())# Sorting the words in alphabetical order\n",
    "\n",
    "    for word in sorted_words:\n",
    "        print(f\"{word}: {frequency[word]}\")\n",
    "\n",
    "input_text = input(\"Enter a text: \")\n",
    "compute_word_frequency(input_text)"
   ]
  },
  {
   "cell_type": "code",
   "execution_count": 22,
   "id": "65e9789c",
   "metadata": {},
   "outputs": [
    {
     "name": "stdout",
     "output_type": "stream",
     "text": [
      "am: 2\n",
      "an: 1\n",
      "aspiring: 1\n",
      "data: 1\n",
      "hari,: 1\n",
      "hello: 1\n",
      "hi: 2\n",
      "i: 2\n",
      "scientist: 1\n",
      "world,: 1\n"
     ]
    }
   ],
   "source": [
    "input_text=\"hi i am  hari, hi hello world, i am an aspiring data scientist\"\n",
    "compute_word_frequency(input_text)"
   ]
  },
  {
   "cell_type": "markdown",
   "id": "4e869c3c",
   "metadata": {},
   "source": [
    "---------------\n",
    "### 3. Define a class Person and its two child classes: Male and Female. All classes have a method \"getGender\" which can print \"Male\" for Male class and \"Female\" for Female class."
   ]
  },
  {
   "cell_type": "code",
   "execution_count": 23,
   "id": "fd095132",
   "metadata": {},
   "outputs": [
    {
     "name": "stdout",
     "output_type": "stream",
     "text": [
      "Unknown\n",
      "Male\n",
      "Female\n"
     ]
    }
   ],
   "source": [
    "class Person:\n",
    "    def getGender(self):\n",
    "        print(\"Unknown\")\n",
    "\n",
    "class Male(Person):\n",
    "    def getGender(self):\n",
    "        print(\"Male\")\n",
    "\n",
    "class Female(Person):\n",
    "    def getGender(self):\n",
    "        print(\"Female\")\n",
    "\n",
    "#nstances of the classes\n",
    "person = Person()\n",
    "male = Male()\n",
    "female = Female()\n",
    "\n",
    "person.getGender()\n",
    "male.getGender()\n",
    "female.getGender()"
   ]
  },
  {
   "cell_type": "markdown",
   "id": "58b5940f",
   "metadata": {},
   "source": [
    "-------------------\n",
    "### 4. Please write a program to generate all sentences where subject is in [\"I\", \"You\"] and verb is in ['Play', \"Love\"] and the object is in [\"Hockey\",\"Football\"]."
   ]
  },
  {
   "cell_type": "code",
   "execution_count": 25,
   "id": "d8890f38",
   "metadata": {},
   "outputs": [
    {
     "name": "stdout",
     "output_type": "stream",
     "text": [
      "I Play Hockey.\n",
      "I Play Football.\n",
      "I Love Hockey.\n",
      "I Love Football.\n",
      "You Play Hockey.\n",
      "You Play Football.\n",
      "You Love Hockey.\n",
      "You Love Football.\n"
     ]
    }
   ],
   "source": [
    "subjects = [\"I\", \"You\"]\n",
    "verbs = [\"Play\", \"Love\"]\n",
    "objects = [\"Hockey\", \"Football\"]\n",
    "\n",
    "sentences = []\n",
    "\n",
    "# Generating all possible sentences\n",
    "for subject in subjects:\n",
    "    for verb in verbs:\n",
    "        for obj in objects:\n",
    "            sentence = f\"{subject} {verb} {obj}.\"\n",
    "            sentences.append(sentence)\n",
    "\n",
    "for sentence in sentences:\n",
    "    print(sentence)"
   ]
  },
  {
   "cell_type": "markdown",
   "id": "0ddf4f59",
   "metadata": {},
   "source": [
    "--------------\n",
    "### 5. Please write a program to compress and decompress the string \"hello world!hello world!hello world!hello world!\""
   ]
  },
  {
   "cell_type": "code",
   "execution_count": 26,
   "id": "f0855c8d",
   "metadata": {},
   "outputs": [
    {
     "name": "stdout",
     "output_type": "stream",
     "text": [
      "Compressed Data: b'x\\x9c\\xcbH\\xcd\\xc9\\xc9W(\\xcf/\\xcaIQ\\xcc \\x82\\r\\x00\\xbd[\\x11\\xf5'\n",
      "Decompressed String: hello world!hello world!hello world!hello world!\n"
     ]
    }
   ],
   "source": [
    "import zlib\n",
    "\n",
    "def compress_string(input_string):\n",
    "    \n",
    "    input_bytes = input_string.encode('utf-8')#string to bytes using UTF-8 encoding\n",
    "    compressed_data = zlib.compress(input_bytes)# Compress string bytes using zlib\n",
    "    return compressed_data\n",
    "\n",
    "def decompress_string(compressed_data):\n",
    "    \n",
    "    decompressed_bytes = zlib.decompress(compressed_data)# Decompress the bytes using zlib\n",
    "    decompressed_string = decompressed_bytes.decode('utf-8')#bytes into string using UTF-8 encoding\n",
    "    return decompressed_string\n",
    "\n",
    "input_string = \"hello world!hello world!hello world!hello world!\"\n",
    "\n",
    "# Compress the input string\n",
    "compressed_data = compress_string(input_string)\n",
    "print(\"Compressed Data:\", compressed_data)\n",
    "\n",
    "# Decompress the compressed data\n",
    "decompressed_string = decompress_string(compressed_data)\n",
    "print(\"Decompressed String:\", decompressed_string)"
   ]
  },
  {
   "cell_type": "markdown",
   "id": "2aeb595b",
   "metadata": {},
   "source": [
    "---------------------------\n",
    "### 6. Please write a binary search function which searches an item in a sorted list. The function should return the index of element to be searched in the list."
   ]
  },
  {
   "cell_type": "code",
   "execution_count": 28,
   "id": "40ebf4cb",
   "metadata": {},
   "outputs": [],
   "source": [
    "def binary_search(arr, item):\n",
    "    left = 0\n",
    "    right = len(arr) - 1\n",
    "\n",
    "    while left <= right:\n",
    "        mid = (left + right) // 2\n",
    "\n",
    "        if arr[mid] == item:\n",
    "            return mid\n",
    "        elif arr[mid] < item:\n",
    "            left = mid + 1\n",
    "        else:\n",
    "            right = mid - 1\n",
    "\n",
    "    return -1  #Item not found"
   ]
  },
  {
   "cell_type": "code",
   "execution_count": 29,
   "id": "08b2ef0c",
   "metadata": {},
   "outputs": [
    {
     "name": "stdout",
     "output_type": "stream",
     "text": [
      "Item found at index: 4\n"
     ]
    }
   ],
   "source": [
    "#test case 1\n",
    "sorted_list = [1, 3, 5, 7, 9, 11, 13, 15]\n",
    "item_to_search = 9\n",
    "\n",
    "index = binary_search(sorted_list, item_to_search)\n",
    "\n",
    "if index != -1:\n",
    "    print(\"Item found at index:\", index)\n",
    "else:\n",
    "    print(\"Item not found in the list\")"
   ]
  },
  {
   "cell_type": "code",
   "execution_count": 30,
   "id": "ed216cc9",
   "metadata": {},
   "outputs": [
    {
     "name": "stdout",
     "output_type": "stream",
     "text": [
      "Item found at index: 6\n"
     ]
    }
   ],
   "source": [
    "#test case 2\n",
    "sorted_list = [1, 4, 5, 12, 54, 678, 1235]\n",
    "item_to_search = 1235\n",
    "\n",
    "index = binary_search(sorted_list, item_to_search)\n",
    "\n",
    "if index != -1:\n",
    "    print(\"Item found at index:\", index)\n",
    "else:\n",
    "    print(\"Item not found in the list\")"
   ]
  },
  {
   "cell_type": "code",
   "execution_count": null,
   "id": "26ba3484",
   "metadata": {},
   "outputs": [],
   "source": []
  }
 ],
 "metadata": {
  "kernelspec": {
   "display_name": "Python 3 (ipykernel)",
   "language": "python",
   "name": "python3"
  },
  "language_info": {
   "codemirror_mode": {
    "name": "ipython",
    "version": 3
   },
   "file_extension": ".py",
   "mimetype": "text/x-python",
   "name": "python",
   "nbconvert_exporter": "python",
   "pygments_lexer": "ipython3",
   "version": "3.10.5"
  }
 },
 "nbformat": 4,
 "nbformat_minor": 5
}
