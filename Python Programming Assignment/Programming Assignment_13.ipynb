{
 "cells": [
  {
   "attachments": {},
   "cell_type": "markdown",
   "id": "62fd0c8e",
   "metadata": {},
   "source": [
    "# Assignment_13"
   ]
  },
  {
   "attachments": {},
   "cell_type": "markdown",
   "id": "ed4a3c0b",
   "metadata": {},
   "source": [
    "\n",
    "### 1. Write a program that calculates and prints the value according to the given formula:\n",
    "- Q = Square root of [(2 C D)/H]<br>\n",
    "Following are the fixed values of C and H:<br>\n",
    "C is 50. H is 30.<br>\n",
    "\n",
    "- D is the variable whose values should be input to your program in a comma-separated sequence.<br>\n",
    "\n",
    "\n",
    "Example<br>\n",
    "- Let us assume the following comma separated input sequence is given to the program:<br>\n",
    "100,150,180<br>\n",
    "The output of the program should be:<br>\n",
    "18,22,24"
   ]
  },
  {
   "cell_type": "code",
   "execution_count": 2,
   "id": "96b47837",
   "metadata": {},
   "outputs": [
    {
     "data": {
      "text/plain": [
       "[18, 22, 24]"
      ]
     },
     "execution_count": 2,
     "metadata": {},
     "output_type": "execute_result"
    }
   ],
   "source": [
    "import math\n",
    "\n",
    "def calculate_formula(args):\n",
    "    c = 50;h = 30\n",
    "    result = []\n",
    "    for d in args:\n",
    "        result.append(int(math.sqrt((2*c*int(d))/h)))\n",
    "    return result\n",
    "    \n",
    "csv_in = list(input(\"Enter comma separated numbers input: \").split(','))\n",
    "calculate_formula(csv_in)"
   ]
  },
  {
   "cell_type": "markdown",
   "id": "ed37b6ed",
   "metadata": {},
   "source": [
    "### 2. Write a program which takes 2 digits, X,Y as input and generates a 2-dimensional array. The element value in the i-th row and j-th column of the array should be i*j."
   ]
  },
  {
   "cell_type": "code",
   "execution_count": 7,
   "id": "09beaed7",
   "metadata": {},
   "outputs": [
    {
     "name": "stdout",
     "output_type": "stream",
     "text": [
      "[[0 0 0 0]\n",
      " [0 1 2 3]\n",
      " [0 2 4 6]]\n"
     ]
    }
   ],
   "source": [
    "import numpy as np\n",
    "\n",
    "X = int(input(\"Enter the value of X: \"))\n",
    "Y = int(input(\"Enter the value of Y: \"))\n",
    "arr = np.zeros((X, Y), dtype=int)\n",
    "\n",
    "for i in range(X):\n",
    "    for j in range(Y):\n",
    "        arr[i][j] = i * j\n",
    "\n",
    "print(arr)"
   ]
  },
  {
   "cell_type": "markdown",
   "id": "bc7f977b",
   "metadata": {},
   "source": [
    "### 3. Write a program that accepts a comma separated sequence of words as input and prints the words in a comma-separated sequence after sorting them alphabetically."
   ]
  },
  {
   "cell_type": "code",
   "execution_count": 13,
   "id": "39c3748f",
   "metadata": {},
   "outputs": [
    {
     "name": "stdout",
     "output_type": "stream",
     "text": [
      "apple,ball,cat,dog,host,mango,mouse,orange\n"
     ]
    }
   ],
   "source": [
    "words = input(\"Enter a comma-separated sequence of words: \")\n",
    "\n",
    "words_list = words.split(\",\")\n",
    "words_list.sort()\n",
    "sorted_words = \",\".join(words_list)\n",
    "print(sorted_words)"
   ]
  },
  {
   "cell_type": "markdown",
   "id": "171c3d90",
   "metadata": {},
   "source": [
    "### 4. Write a program that accepts a sequence of whitespace separated words as input and prints the words after removing all duplicate words and sorting them alphanumerically."
   ]
  },
  {
   "cell_type": "code",
   "execution_count": 4,
   "id": "6f0b4beb",
   "metadata": {},
   "outputs": [
    {
     "name": "stdout",
     "output_type": "stream",
     "text": [
      "Result: , Hello hari, hello ravi, world world! world,\n"
     ]
    }
   ],
   "source": [
    "def remove_duplicates_and_sort_words(input_string):\n",
    "    \n",
    "    words = input_string.split()\n",
    "    unique_words = list(set(words))\n",
    "    sorted_words = sorted(unique_words)\n",
    "    return ' '.join(sorted_words)\n",
    "\n",
    "# input sentence : hello world, hello hari, hello ravi, hello world , Hello world!\n",
    "input_sequence = input(\"Enter a sequence of whitespace separated words: \")\n",
    "result = remove_duplicates_and_sort_words(input_sequence)\n",
    "print(\"Result:\", result)"
   ]
  },
  {
   "cell_type": "markdown",
   "id": "88d25c49",
   "metadata": {},
   "source": [
    "### 5. Write a program that accepts a sentence and calculate the number of letters and digits."
   ]
  },
  {
   "cell_type": "code",
   "execution_count": 8,
   "id": "f6d32617",
   "metadata": {},
   "outputs": [
    {
     "name": "stdout",
     "output_type": "stream",
     "text": [
      "Number of letters: 10\n",
      "Number of digits: 6\n"
     ]
    }
   ],
   "source": [
    "#Method 1\n",
    "def count_letters_and_digits_1(sentence):\n",
    "    letters = 0\n",
    "    digits = 0\n",
    "\n",
    "    for char in sentence:\n",
    "        if char.isalpha():\n",
    "            letters += 1\n",
    "        elif char.isdigit():\n",
    "            digits += 1\n",
    "\n",
    "    return letters, digits\n",
    "\n",
    "# input sentence : hello world! 123456!\n",
    "sentence = input(\"Enter a sentence: \")\n",
    "letter_count, digit_count = count_letters_and_digits_1(sentence)\n",
    "print(\"Number of letters:\", letter_count)\n",
    "print(\"Number of digits:\", digit_count)"
   ]
  },
  {
   "cell_type": "code",
   "execution_count": 9,
   "id": "9af8334f",
   "metadata": {},
   "outputs": [
    {
     "name": "stdout",
     "output_type": "stream",
     "text": [
      "Number of letters: 10\n",
      "Number of digits: 6\n"
     ]
    }
   ],
   "source": [
    "#Method 2\n",
    "def count_letters_and_digits_2(sentence):    \n",
    "    words = input(\"Enter a sentence: \")\n",
    "    letters = 0\n",
    "    digits = 0\n",
    "    for c in words:\n",
    "        if (ord(c) >= ord('a') and ord(c) <= ord('z')) or (ord(c) >= ord('A') and ord(c) <= ord('Z')):\n",
    "            letters += 1\n",
    "        elif ord(c) >= ord('0') and ord(c) <= ord('9'):\n",
    "            digits += 1\n",
    "    return letters, digits\n",
    "            \n",
    "# input sentence : hello world! 123456!\n",
    "sentence = input(\"Enter a sentence: \")\n",
    "letter_count, digit_count = count_letters_and_digits_2(sentence)\n",
    "print(\"Number of letters:\", letter_count)\n",
    "print(\"Number of digits:\", digit_count)"
   ]
  },
  {
   "cell_type": "markdown",
   "id": "9695c4ca",
   "metadata": {},
   "source": [
    "### 6. A website requires the users to input username and password to register. Write a program to check the validity of password input by users."
   ]
  },
  {
   "cell_type": "code",
   "execution_count": 21,
   "id": "fec7984d",
   "metadata": {},
   "outputs": [
    {
     "name": "stdout",
     "output_type": "stream",
     "text": [
      "Password \"r4Fe444@j3\" is valid\n"
     ]
    }
   ],
   "source": [
    "def check_password_validity(password):\n",
    "    #password length >= 8 characters\n",
    "    if len(password) < 8:\n",
    "        raise ValueError(\"Password should be at least 8 characters long\")\n",
    "\n",
    "    # Checking at least one uppercase, one lowercase, and one digit\n",
    "    has_uppercase = False\n",
    "    has_lowercase = False\n",
    "    has_digit = False\n",
    "\n",
    "    for char in password:\n",
    "        if char.isupper():\n",
    "            has_uppercase = True\n",
    "        elif char.islower():\n",
    "            has_lowercase = True\n",
    "        elif char.isdigit():\n",
    "            has_digit = True\n",
    "\n",
    "    if not (has_uppercase and has_lowercase and has_digit):\n",
    "        raise ValueError(\"Password should contain at least one uppercase letter, one lowercase letter, and one digit\")\n",
    "\n",
    "\n",
    "#input from user\n",
    "password = input(\"Enter your password: \")\n",
    "\n",
    "try:\n",
    "    # Checking validity of the password\n",
    "    check_password_validity(password)\n",
    "    print(f'Password \"{password}\" is valid')\n",
    "except ValueError as error:\n",
    "    print(f'Password \"{password}\" is not valid Error:', str(error))\n"
   ]
  },
  {
   "cell_type": "code",
   "execution_count": 24,
   "id": "7f49c3ae",
   "metadata": {},
   "outputs": [
    {
     "ename": "ValueError",
     "evalue": "Password should contain at least one uppercase letter, one lowercase letter, and one digit",
     "output_type": "error",
     "traceback": [
      "\u001b[1;31m---------------------------------------------------------------------------\u001b[0m",
      "\u001b[1;31mValueError\u001b[0m                                Traceback (most recent call last)",
      "\u001b[1;32md:\\DS.ALL\\Full-Stack-Data-Science-BootCamp-2.0_Dashboard_Materials\\ASSIGNMENTS\\Python Programming Assignment\\Programming Assignment_13.ipynb Cell 15\u001b[0m in \u001b[0;36m3\n\u001b[0;32m      <a href='vscode-notebook-cell:/d%3A/DS.ALL/Full-Stack-Data-Science-BootCamp-2.0_Dashboard_Materials/ASSIGNMENTS/Python%20Programming%20Assignment/Programming%20Assignment_13.ipynb#X20sZmlsZQ%3D%3D?line=0'>1</a>\u001b[0m \u001b[39m#Test Case 2\u001b[39;00m\n\u001b[0;32m      <a href='vscode-notebook-cell:/d%3A/DS.ALL/Full-Stack-Data-Science-BootCamp-2.0_Dashboard_Materials/ASSIGNMENTS/Python%20Programming%20Assignment/Programming%20Assignment_13.ipynb#X20sZmlsZQ%3D%3D?line=1'>2</a>\u001b[0m password \u001b[39m=\u001b[39m \u001b[39m\"\u001b[39m\u001b[39mr46e444j\u001b[39m\u001b[39m\"\u001b[39m\n\u001b[1;32m----> <a href='vscode-notebook-cell:/d%3A/DS.ALL/Full-Stack-Data-Science-BootCamp-2.0_Dashboard_Materials/ASSIGNMENTS/Python%20Programming%20Assignment/Programming%20Assignment_13.ipynb#X20sZmlsZQ%3D%3D?line=2'>3</a>\u001b[0m check_password_validity(password)\n\u001b[0;32m      <a href='vscode-notebook-cell:/d%3A/DS.ALL/Full-Stack-Data-Science-BootCamp-2.0_Dashboard_Materials/ASSIGNMENTS/Python%20Programming%20Assignment/Programming%20Assignment_13.ipynb#X20sZmlsZQ%3D%3D?line=4'>5</a>\u001b[0m \u001b[39mtry\u001b[39;00m:\n\u001b[0;32m      <a href='vscode-notebook-cell:/d%3A/DS.ALL/Full-Stack-Data-Science-BootCamp-2.0_Dashboard_Materials/ASSIGNMENTS/Python%20Programming%20Assignment/Programming%20Assignment_13.ipynb#X20sZmlsZQ%3D%3D?line=5'>6</a>\u001b[0m     \u001b[39m# Checking validity of the password\u001b[39;00m\n\u001b[0;32m      <a href='vscode-notebook-cell:/d%3A/DS.ALL/Full-Stack-Data-Science-BootCamp-2.0_Dashboard_Materials/ASSIGNMENTS/Python%20Programming%20Assignment/Programming%20Assignment_13.ipynb#X20sZmlsZQ%3D%3D?line=6'>7</a>\u001b[0m     check_password_validity(password)\n",
      "\u001b[1;32md:\\DS.ALL\\Full-Stack-Data-Science-BootCamp-2.0_Dashboard_Materials\\ASSIGNMENTS\\Python Programming Assignment\\Programming Assignment_13.ipynb Cell 15\u001b[0m in \u001b[0;36m2\n\u001b[0;32m     <a href='vscode-notebook-cell:/d%3A/DS.ALL/Full-Stack-Data-Science-BootCamp-2.0_Dashboard_Materials/ASSIGNMENTS/Python%20Programming%20Assignment/Programming%20Assignment_13.ipynb#X20sZmlsZQ%3D%3D?line=16'>17</a>\u001b[0m         has_digit \u001b[39m=\u001b[39m \u001b[39mTrue\u001b[39;00m\n\u001b[0;32m     <a href='vscode-notebook-cell:/d%3A/DS.ALL/Full-Stack-Data-Science-BootCamp-2.0_Dashboard_Materials/ASSIGNMENTS/Python%20Programming%20Assignment/Programming%20Assignment_13.ipynb#X20sZmlsZQ%3D%3D?line=18'>19</a>\u001b[0m \u001b[39mif\u001b[39;00m \u001b[39mnot\u001b[39;00m (has_uppercase \u001b[39mand\u001b[39;00m has_lowercase \u001b[39mand\u001b[39;00m has_digit):\n\u001b[1;32m---> <a href='vscode-notebook-cell:/d%3A/DS.ALL/Full-Stack-Data-Science-BootCamp-2.0_Dashboard_Materials/ASSIGNMENTS/Python%20Programming%20Assignment/Programming%20Assignment_13.ipynb#X20sZmlsZQ%3D%3D?line=19'>20</a>\u001b[0m     \u001b[39mraise\u001b[39;00m \u001b[39mValueError\u001b[39;00m(\u001b[39m\"\u001b[39m\u001b[39mPassword should contain at least one uppercase letter, one lowercase letter, and one digit\u001b[39m\u001b[39m\"\u001b[39m)\n",
      "\u001b[1;31mValueError\u001b[0m: Password should contain at least one uppercase letter, one lowercase letter, and one digit"
     ]
    }
   ],
   "source": [
    "#Test Case 2\n",
    "password = \"r46e444j\"\n",
    "check_password_validity(password)\n",
    "\n",
    "try:\n",
    "    # Checking validity of the password\n",
    "    check_password_validity(password)\n",
    "    print(f'Password \"{password}\" is valid')\n",
    "except ValueError as error:\n",
    "    print(f'Password \"{password}\" is not valid Error:', str(error))"
   ]
  },
  {
   "cell_type": "code",
   "execution_count": 26,
   "id": "048fb909",
   "metadata": {},
   "outputs": [
    {
     "ename": "ValueError",
     "evalue": "Password should be at least 8 characters long",
     "output_type": "error",
     "traceback": [
      "\u001b[1;31m---------------------------------------------------------------------------\u001b[0m",
      "\u001b[1;31mValueError\u001b[0m                                Traceback (most recent call last)",
      "\u001b[1;32md:\\DS.ALL\\Full-Stack-Data-Science-BootCamp-2.0_Dashboard_Materials\\ASSIGNMENTS\\Python Programming Assignment\\Programming Assignment_13.ipynb Cell 16\u001b[0m in \u001b[0;36m3\n\u001b[0;32m      <a href='vscode-notebook-cell:/d%3A/DS.ALL/Full-Stack-Data-Science-BootCamp-2.0_Dashboard_Materials/ASSIGNMENTS/Python%20Programming%20Assignment/Programming%20Assignment_13.ipynb#X23sZmlsZQ%3D%3D?line=0'>1</a>\u001b[0m \u001b[39m#Test Case 3\u001b[39;00m\n\u001b[0;32m      <a href='vscode-notebook-cell:/d%3A/DS.ALL/Full-Stack-Data-Science-BootCamp-2.0_Dashboard_Materials/ASSIGNMENTS/Python%20Programming%20Assignment/Programming%20Assignment_13.ipynb#X23sZmlsZQ%3D%3D?line=1'>2</a>\u001b[0m password \u001b[39m=\u001b[39m \u001b[39m\"\u001b[39m\u001b[39m19hari\u001b[39m\u001b[39m\"\u001b[39m\n\u001b[1;32m----> <a href='vscode-notebook-cell:/d%3A/DS.ALL/Full-Stack-Data-Science-BootCamp-2.0_Dashboard_Materials/ASSIGNMENTS/Python%20Programming%20Assignment/Programming%20Assignment_13.ipynb#X23sZmlsZQ%3D%3D?line=2'>3</a>\u001b[0m check_password_validity(password)\n\u001b[0;32m      <a href='vscode-notebook-cell:/d%3A/DS.ALL/Full-Stack-Data-Science-BootCamp-2.0_Dashboard_Materials/ASSIGNMENTS/Python%20Programming%20Assignment/Programming%20Assignment_13.ipynb#X23sZmlsZQ%3D%3D?line=4'>5</a>\u001b[0m \u001b[39mif\u001b[39;00m validity:\n\u001b[0;32m      <a href='vscode-notebook-cell:/d%3A/DS.ALL/Full-Stack-Data-Science-BootCamp-2.0_Dashboard_Materials/ASSIGNMENTS/Python%20Programming%20Assignment/Programming%20Assignment_13.ipynb#X23sZmlsZQ%3D%3D?line=5'>6</a>\u001b[0m     \u001b[39mprint\u001b[39m(\u001b[39mf\u001b[39m\u001b[39m'\u001b[39m\u001b[39mPassword \u001b[39m\u001b[39m\"\u001b[39m\u001b[39m{\u001b[39;00mpassword\u001b[39m}\u001b[39;00m\u001b[39m\"\u001b[39m\u001b[39m is valid\u001b[39m\u001b[39m'\u001b[39m)\n",
      "\u001b[1;32md:\\DS.ALL\\Full-Stack-Data-Science-BootCamp-2.0_Dashboard_Materials\\ASSIGNMENTS\\Python Programming Assignment\\Programming Assignment_13.ipynb Cell 16\u001b[0m in \u001b[0;36m4\n\u001b[0;32m      <a href='vscode-notebook-cell:/d%3A/DS.ALL/Full-Stack-Data-Science-BootCamp-2.0_Dashboard_Materials/ASSIGNMENTS/Python%20Programming%20Assignment/Programming%20Assignment_13.ipynb#X23sZmlsZQ%3D%3D?line=0'>1</a>\u001b[0m \u001b[39mdef\u001b[39;00m \u001b[39mcheck_password_validity\u001b[39m(password):\n\u001b[0;32m      <a href='vscode-notebook-cell:/d%3A/DS.ALL/Full-Stack-Data-Science-BootCamp-2.0_Dashboard_Materials/ASSIGNMENTS/Python%20Programming%20Assignment/Programming%20Assignment_13.ipynb#X23sZmlsZQ%3D%3D?line=1'>2</a>\u001b[0m     \u001b[39m#password length >= 8 characters\u001b[39;00m\n\u001b[0;32m      <a href='vscode-notebook-cell:/d%3A/DS.ALL/Full-Stack-Data-Science-BootCamp-2.0_Dashboard_Materials/ASSIGNMENTS/Python%20Programming%20Assignment/Programming%20Assignment_13.ipynb#X23sZmlsZQ%3D%3D?line=2'>3</a>\u001b[0m     \u001b[39mif\u001b[39;00m \u001b[39mlen\u001b[39m(password) \u001b[39m<\u001b[39m \u001b[39m8\u001b[39m:\n\u001b[1;32m----> <a href='vscode-notebook-cell:/d%3A/DS.ALL/Full-Stack-Data-Science-BootCamp-2.0_Dashboard_Materials/ASSIGNMENTS/Python%20Programming%20Assignment/Programming%20Assignment_13.ipynb#X23sZmlsZQ%3D%3D?line=3'>4</a>\u001b[0m         \u001b[39mraise\u001b[39;00m \u001b[39mValueError\u001b[39;00m(\u001b[39m\"\u001b[39m\u001b[39mPassword should be at least 8 characters long\u001b[39m\u001b[39m\"\u001b[39m)\n\u001b[0;32m      <a href='vscode-notebook-cell:/d%3A/DS.ALL/Full-Stack-Data-Science-BootCamp-2.0_Dashboard_Materials/ASSIGNMENTS/Python%20Programming%20Assignment/Programming%20Assignment_13.ipynb#X23sZmlsZQ%3D%3D?line=5'>6</a>\u001b[0m     \u001b[39m# Checking at least one uppercase, one lowercase, and one digit\u001b[39;00m\n\u001b[0;32m      <a href='vscode-notebook-cell:/d%3A/DS.ALL/Full-Stack-Data-Science-BootCamp-2.0_Dashboard_Materials/ASSIGNMENTS/Python%20Programming%20Assignment/Programming%20Assignment_13.ipynb#X23sZmlsZQ%3D%3D?line=6'>7</a>\u001b[0m     has_uppercase \u001b[39m=\u001b[39m \u001b[39mFalse\u001b[39;00m\n",
      "\u001b[1;31mValueError\u001b[0m: Password should be at least 8 characters long"
     ]
    }
   ],
   "source": [
    "#Test Case 3\n",
    "password = \"19hari\"\n",
    "check_password_validity(password)\n",
    "\n",
    "if validity:\n",
    "    print(f'Password \"{password}\" is valid')\n",
    "else:\n",
    "    print(f'Password \"{password}\", is not valid')"
   ]
  },
  {
   "cell_type": "code",
   "execution_count": null,
   "id": "4fd3899c",
   "metadata": {},
   "outputs": [],
   "source": []
  }
 ],
 "metadata": {
  "kernelspec": {
   "display_name": "Python 3 (ipykernel)",
   "language": "python",
   "name": "python3"
  },
  "language_info": {
   "codemirror_mode": {
    "name": "ipython",
    "version": 3
   },
   "file_extension": ".py",
   "mimetype": "text/x-python",
   "name": "python",
   "nbconvert_exporter": "python",
   "pygments_lexer": "ipython3",
   "version": "3.10.5"
  }
 },
 "nbformat": 4,
 "nbformat_minor": 5
}
