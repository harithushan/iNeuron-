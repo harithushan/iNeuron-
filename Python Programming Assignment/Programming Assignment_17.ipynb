{
 "cells": [
  {
   "attachments": {},
   "cell_type": "markdown",
   "id": "7434e9c0",
   "metadata": {},
   "source": [
    "## Assignment_17\n",
    "----------------"
   ]
  },
  {
   "cell_type": "markdown",
   "id": "993eab34",
   "metadata": {},
   "source": [
    "### 1. Create a function that takes three arguments a, b, c and returns the sum of the numbers that are evenly divided by c from the range a, b inclusive."
   ]
  },
  {
   "cell_type": "code",
   "execution_count": 6,
   "id": "295d043c",
   "metadata": {},
   "outputs": [],
   "source": [
    "def evenly_divisible(a, b, c):\n",
    "    sum = 0\n",
    "    \n",
    "    for i in range(a, b + 1):\n",
    "        if i % c == 0:\n",
    "            sum += i\n",
    "            \n",
    "    return sum"
   ]
  },
  {
   "cell_type": "code",
   "execution_count": 7,
   "id": "6d91710e",
   "metadata": {},
   "outputs": [
    {
     "name": "stdout",
     "output_type": "stream",
     "text": [
      "0\n",
      "30\n",
      "18\n"
     ]
    }
   ],
   "source": [
    "print(evenly_divisible(1, 10, 20))\n",
    "print(evenly_divisible(1, 10, 2))\n",
    "print(evenly_divisible(1, 10, 3))"
   ]
  },
  {
   "cell_type": "markdown",
   "id": "1f33d81e",
   "metadata": {},
   "source": [
    "### 2. Create a function that returns True if a given inequality expression is correct and False otherwise."
   ]
  },
  {
   "cell_type": "code",
   "execution_count": 18,
   "id": "1f698660",
   "metadata": {},
   "outputs": [
    {
     "name": "stdout",
     "output_type": "stream",
     "text": [
      "False\n",
      "False\n",
      "True\n"
     ]
    }
   ],
   "source": [
    "def correct_eq(expression):\n",
    "    return eval(expression)\n",
    "\n",
    "print(correct_eq(\"3 > 7 < 11\"))\n",
    "print(correct_eq(\"13 > 44 > 33 > 1\"))\n",
    "print(correct_eq(\"1 < 2 < 6 < 9 > 3\"))"
   ]
  },
  {
   "cell_type": "markdown",
   "id": "b7a6f76f",
   "metadata": {},
   "source": [
    "### 3. Create a function that replaces all the vowels in a string with a specified character."
   ]
  },
  {
   "cell_type": "code",
   "execution_count": 17,
   "id": "c45e29a5",
   "metadata": {},
   "outputs": [
    {
     "name": "stdout",
     "output_type": "stream",
     "text": [
      "th# ##rdv#rk\n",
      "m?nn?? m??s?\n",
      "sh*k*sp**r*\n",
      "h# #m h#r#th#sh#n\n",
      "H_ll_ w_rld!\n"
     ]
    }
   ],
   "source": [
    "def replace_vowels(string, char):\n",
    "    list_string = list(string)\n",
    "    vowels = ['a', 'e', 'i', 'o', 'u']\n",
    "    \n",
    "    for i in range(len(list_string)):\n",
    "        if list_string[i] in vowels:\n",
    "            list_string[i] = char\n",
    "    \n",
    "    return \"\".join(list_string) \n",
    "\n",
    "\n",
    "\n",
    "\n",
    "print(replace_vowels('the aardvark', '#')) \n",
    "print(replace_vowels('minnie mouse', '?'))\n",
    "print(replace_vowels('shakespeare', '*'))\n",
    "print(replace_vowels('hi am harithushan', '#'))\n",
    "print(replace_vowels('Hello world!', '_'))\n"
   ]
  },
  {
   "cell_type": "markdown",
   "id": "aaccd13a",
   "metadata": {},
   "source": [
    "### 4. Write a function that calculates the factorial of a number recursively."
   ]
  },
  {
   "cell_type": "code",
   "execution_count": 16,
   "id": "c6fefea9",
   "metadata": {},
   "outputs": [
    {
     "name": "stdout",
     "output_type": "stream",
     "text": [
      "120\n",
      "6\n",
      "1\n",
      "1\n"
     ]
    }
   ],
   "source": [
    "def factorial(n):\n",
    "    if n <= 1:\n",
    "        return 1\n",
    "    else:\n",
    "        return n * factorial(n-1)\n",
    "    \n",
    "print(factorial(5))\n",
    "print(factorial(3))\n",
    "print(factorial(1))\n",
    "print(factorial(0))"
   ]
  },
  {
   "attachments": {},
   "cell_type": "markdown",
   "id": "c35921e3",
   "metadata": {},
   "source": [
    "### 5. Hamming distance is the number of characters that differ between two strings.\n",
    "\n",
    "To illustrate:\n",
    "\n",
    "String1: \"abcbba\"<br>\n",
    "String2: \"abcbda\"\n",
    "\n",
    "- Hamming Distance: 1 - \"b\" vs. \"d\" is the only difference.\n",
    "Create a function that computes the hamming distance between two strings.\n"
   ]
  },
  {
   "cell_type": "code",
   "execution_count": 5,
   "id": "6f2ff45f",
   "metadata": {},
   "outputs": [
    {
     "name": "stdout",
     "output_type": "stream",
     "text": [
      "5\n",
      "1\n",
      "0\n"
     ]
    }
   ],
   "source": [
    "#method 1\n",
    "def hamming_distance(str1, str2):\n",
    "    i = 0\n",
    "    distance= 0\n",
    "    while(i < len(str1)):\n",
    "        if(str1[i] != str2[i]):\n",
    "            distance += 1\n",
    "        i += 1\n",
    "    return distance\n",
    "\n",
    "print(hamming_distance(\"abcde\", \"bcdef\"))\n",
    "print(hamming_distance('strong', 'strung'))\n",
    "print(hamming_distance('abcde', 'abcde'))"
   ]
  },
  {
   "cell_type": "code",
   "execution_count": 6,
   "id": "742b73f9",
   "metadata": {},
   "outputs": [
    {
     "name": "stdout",
     "output_type": "stream",
     "text": [
      "5\n",
      "1\n",
      "0\n"
     ]
    }
   ],
   "source": [
    "#method 2\n",
    "def hamming_distance(string1, string2):\n",
    "    if len(string1) != len(string2):\n",
    "        raise ValueError(\"Strings must have the same length.\")\n",
    "    \n",
    "    distance = 0\n",
    "    for char1, char2 in zip(string1, string2):\n",
    "        if char1 != char2:\n",
    "            distance += 1\n",
    "    \n",
    "    return distance\n",
    "\n",
    "\n",
    "print(hamming_distance(\"abcde\", \"bcdef\"))\n",
    "print(hamming_distance('strong', 'strung'))\n",
    "print(hamming_distance('abcde', 'abcde'))"
   ]
  },
  {
   "cell_type": "code",
   "execution_count": null,
   "id": "235af48c",
   "metadata": {},
   "outputs": [],
   "source": []
  }
 ],
 "metadata": {
  "kernelspec": {
   "display_name": "Python 3 (ipykernel)",
   "language": "python",
   "name": "python3"
  },
  "language_info": {
   "codemirror_mode": {
    "name": "ipython",
    "version": 3
   },
   "file_extension": ".py",
   "mimetype": "text/x-python",
   "name": "python",
   "nbconvert_exporter": "python",
   "pygments_lexer": "ipython3",
   "version": "3.10.5"
  }
 },
 "nbformat": 4,
 "nbformat_minor": 5
}
