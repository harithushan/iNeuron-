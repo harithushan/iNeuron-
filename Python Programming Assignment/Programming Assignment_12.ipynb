{
 "cells": [
  {
   "attachments": {},
   "cell_type": "markdown",
   "id": "b7231b20",
   "metadata": {},
   "source": [
    "# Assignment_12\n",
    "-------------"
   ]
  },
  {
   "cell_type": "markdown",
   "id": "d2ec324d",
   "metadata": {},
   "source": [
    "### 1. Write a Python program to Extract Unique values dictionary values?"
   ]
  },
  {
   "cell_type": "code",
   "execution_count": 1,
   "id": "4b68b3c7",
   "metadata": {},
   "outputs": [
    {
     "data": {
      "text/plain": [
       "{1, 2, 3, 'hari', 'hi'}"
      ]
     },
     "execution_count": 1,
     "metadata": {},
     "output_type": "execute_result"
    }
   ],
   "source": [
    "dict1 = {'k1': 1, 'k2': 1, 'k3': 2, 'k4': 3, 'k5':'hari', 'k6':'hari', 'k7':'hi', 'k8':'hi'}\n",
    "unique_values = {i for i in dict1.values()}# using a set to get unique values\n",
    "unique_values"
   ]
  },
  {
   "cell_type": "markdown",
   "id": "203bcbc3",
   "metadata": {},
   "source": [
    "### 2. Write a Python program to find the sum of all items in a dictionary?"
   ]
  },
  {
   "cell_type": "code",
   "execution_count": 16,
   "id": "9354ff28",
   "metadata": {},
   "outputs": [
    {
     "name": "stdout",
     "output_type": "stream",
     "text": [
      "The sum of values in the dictionary is: 55\n"
     ]
    }
   ],
   "source": [
    "my_dict = {'k1': 1, 'k2': 2, 'k3': 3, 'k4': 4, 'k5': 5, 'k6': 6, 'k7': 7, 'k8': 8, 'k9': 9, 'k10': 10}\n",
    "sum_of_values = 0\n",
    "\n",
    "for value in my_dict.values():\n",
    "    sum_of_values += value\n",
    "\n",
    "print(\"The sum of values in the dictionary is:\", sum_of_values)"
   ]
  },
  {
   "cell_type": "markdown",
   "id": "edfbc682",
   "metadata": {},
   "source": [
    "### 3. Write a Python program to Merging two Dictionaries?"
   ]
  },
  {
   "cell_type": "code",
   "execution_count": 2,
   "id": "c3f6a9ab",
   "metadata": {},
   "outputs": [
    {
     "name": "stdout",
     "output_type": "stream",
     "text": [
      "{'a': 1, 'b': 2, 'c': 3, 'd': 4, 'e': 11}\n"
     ]
    }
   ],
   "source": [
    "#method 1\n",
    "dict1 = { 'a': 1, 'b': 2}\n",
    "dict2 = { 'c': 3, 'd': 4, 'e': 11}\n",
    "\n",
    "merged_dict = {**dict1, **dict2}\n",
    "\n",
    "print(merged_dict)\n"
   ]
  },
  {
   "cell_type": "code",
   "execution_count": 1,
   "id": "7cf2eb9f",
   "metadata": {},
   "outputs": [
    {
     "name": "stdout",
     "output_type": "stream",
     "text": [
      "{'a': 1, 'b': 2, 'c': 3, 'd': 4, 'e': 11}\n"
     ]
    }
   ],
   "source": [
    "#method 2\n",
    "dict1 = { 'a': 1, 'b': 2}\n",
    "dict2 = { 'c': 3, 'd': 4, 'e': 11}\n",
    "# merging dict2 into dict1\n",
    "for item in dict2.items():\n",
    "    dict1.setdefault(item[0], item[1])\n",
    "print(dict1)"
   ]
  },
  {
   "cell_type": "code",
   "execution_count": 3,
   "id": "92adfdad",
   "metadata": {},
   "outputs": [
    {
     "name": "stdout",
     "output_type": "stream",
     "text": [
      "{'a': 1, 'b': 2, 'c': 3, 'd': 4, 'e': 11}\n"
     ]
    }
   ],
   "source": [
    "#method 3\n",
    "dict1 = { 'a': 1, 'b': 2}\n",
    "dict2 = { 'c': 3, 'd': 4, 'e': 11}\n",
    "dict1.update(dict2)\n",
    "\n",
    "print(dict1)"
   ]
  },
  {
   "cell_type": "markdown",
   "id": "62eaf687",
   "metadata": {},
   "source": [
    "### 4. Write a Python program to convert key-values list to flat dictionary?"
   ]
  },
  {
   "cell_type": "code",
   "execution_count": 5,
   "id": "8902c328",
   "metadata": {},
   "outputs": [
    {
     "name": "stdout",
     "output_type": "stream",
     "text": [
      "Flattened dictionary : {'k1': 1, 'k2': 2, 'k3': 3}\n"
     ]
    }
   ],
   "source": [
    "test_dict = {'keys' : ['k1', 'k2', 'k3'], 'values' : [1, 2, 3]}\n",
    "  \n",
    "# Using dict() + zip() to convert key-values list to flat dictionary\n",
    "res = dict(zip(test_dict['keys'], test_dict['values']))\n",
    "print(\"Flattened dictionary : \" + str(res)) "
   ]
  },
  {
   "cell_type": "markdown",
   "id": "fcc5015f",
   "metadata": {},
   "source": [
    "### 5. Write a Python program to insertion at the beginning in OrderedDict?"
   ]
  },
  {
   "cell_type": "code",
   "execution_count": 14,
   "id": "2f4387f5",
   "metadata": {},
   "outputs": [
    {
     "name": "stdout",
     "output_type": "stream",
     "text": [
      "Ordered Dictionary after insertion : OrderedDict([('Jan', '1'), ('Feb', '2'), ('Mar', '3'), ('Dec', '12')])\n"
     ]
    }
   ],
   "source": [
    "from collections import OrderedDict\n",
    "  \n",
    "# initialising ordered_dict\n",
    "iniordered_dict = OrderedDict([('Feb', '2'), ('Mar', '3'),('Dec','12')])\n",
    "  \n",
    "# inserting items in starting of dict \n",
    "iniordered_dict.update({'Jan':'1'})\n",
    "iniordered_dict.move_to_end('Jan', last = False)\n",
    "\n",
    "print (\"Ordered Dictionary after insertion : \"+str(iniordered_dict))"
   ]
  },
  {
   "cell_type": "markdown",
   "id": "5978c9ab",
   "metadata": {},
   "source": [
    "### 6. Write a Python program to check order of character in string using OrderedDict()?"
   ]
  },
  {
   "cell_type": "code",
   "execution_count": 29,
   "id": "bf3ad3d8",
   "metadata": {},
   "outputs": [
    {
     "name": "stdout",
     "output_type": "stream",
     "text": [
      "Input string :  helllo world\n",
      "Pattern :  how\n",
      "False\n"
     ]
    }
   ],
   "source": [
    "input_str = input(\"Enter a string: \")\n",
    "pattern = input(\"Enter a pattern: \")\n",
    "print(check_order(input_str, pattern))"
   ]
  },
  {
   "cell_type": "code",
   "execution_count": 30,
   "id": "3baa9c90",
   "metadata": {},
   "outputs": [
    {
     "name": "stdout",
     "output_type": "stream",
     "text": [
      "Input string :  hello world\n",
      "Pattern :  hwo\n",
      "True\n"
     ]
    }
   ],
   "source": [
    "input_str = input(\"Enter a string: \")\n",
    "pattern = input(\"Enter a pattern: \")\n",
    "print(check_order(input_str, pattern))"
   ]
  },
  {
   "cell_type": "markdown",
   "id": "f330da77",
   "metadata": {},
   "source": [
    "### 7. Write a Python program to sort Python Dictionaries by Key or Value?"
   ]
  },
  {
   "cell_type": "code",
   "execution_count": 5,
   "metadata": {},
   "outputs": [
    {
     "name": "stdout",
     "output_type": "stream",
     "text": [
      "{'k1': 1, 'k2': 7, 'k3': 3, 'k5': 4, 'k6': 2, 'k7': 6}\n"
     ]
    }
   ],
   "source": [
    "# Sorting the dictionary by key\n",
    "\n",
    "my_dict = {'k2':7, 'k1':1, 'k3':3, 'k5':4 ,'k7':6, 'k6':2}\n",
    "sorted_dict = dict(sorted(my_dict.items()))\n",
    "\\\n",
    "#sorted dictionary\n",
    "print(sorted_dict)"
   ]
  },
  {
   "cell_type": "code",
   "execution_count": 7,
   "id": "3242ec5b",
   "metadata": {},
   "outputs": [
    {
     "name": "stdout",
     "output_type": "stream",
     "text": [
      "{'k1': 1, 'k6': 2, 'k3': 3, 'k5': 4, 'k7': 6, 'k2': 7}\n"
     ]
    }
   ],
   "source": [
    "# Sorting the dictionary by value\n",
    "\n",
    "my_dict = {'k2':7, 'k1':1, 'k3':3, 'k5':4 ,'k7':6, 'k6':2}\n",
    "sorted_dict = dict(sorted(my_dict.items(), key=lambda item: item[1]))\n",
    "# sorted dictionary\n",
    "print(sorted_dict)\n"
   ]
  }
 ],
 "metadata": {
  "kernelspec": {
   "display_name": "Python 3 (ipykernel)",
   "language": "python",
   "name": "python3"
  },
  "language_info": {
   "codemirror_mode": {
    "name": "ipython",
    "version": 3
   },
   "file_extension": ".py",
   "mimetype": "text/x-python",
   "name": "python",
   "nbconvert_exporter": "python",
   "pygments_lexer": "ipython3",
   "version": "3.10.5"
  }
 },
 "nbformat": 4,
 "nbformat_minor": 5
}
