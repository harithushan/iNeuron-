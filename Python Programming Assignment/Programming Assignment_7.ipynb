{
 "cells": [
  {
   "attachments": {},
   "cell_type": "markdown",
   "id": "35297a20",
   "metadata": {},
   "source": [
    "## Assignment_7"
   ]
  },
  {
   "cell_type": "markdown",
   "id": "27349114",
   "metadata": {},
   "source": [
    "------------------\n",
    "### 1. Write a Python Program to find sum of array?\n"
   ]
  },
  {
   "cell_type": "code",
   "execution_count": 7,
   "id": "cfaf637b",
   "metadata": {},
   "outputs": [
    {
     "name": "stdout",
     "output_type": "stream",
     "text": [
      "Sum of array:  2494\n"
     ]
    }
   ],
   "source": [
    "l = [1,2,3,100, 500, 364, 1024,500]\n",
    "\n",
    "sum = 0\n",
    "for i in l:\n",
    "    sum += i\n",
    "    \n",
    "print(\"Sum of array: \", sum)"
   ]
  },
  {
   "cell_type": "markdown",
   "id": "171a980d",
   "metadata": {},
   "source": [
    "-----------------\n",
    "### 2. Write a Python Program to find largest element in an array?\n"
   ]
  },
  {
   "cell_type": "code",
   "execution_count": 8,
   "id": "87fe5169",
   "metadata": {},
   "outputs": [
    {
     "data": {
      "text/plain": [
       "1024"
      ]
     },
     "execution_count": 8,
     "metadata": {},
     "output_type": "execute_result"
    }
   ],
   "source": [
    "l = [1,2,3,100, 500, 364, 1024,500]\n",
    "\n",
    "\n",
    "max_num=max(l)\n",
    "max_num"
   ]
  },
  {
   "cell_type": "markdown",
   "id": "21613246",
   "metadata": {},
   "source": [
    "----------------\n",
    "### 3. Write a Python Program for array rotation?"
   ]
  },
  {
   "cell_type": "code",
   "execution_count": 9,
   "id": "ce2027d5",
   "metadata": {
    "scrolled": true
   },
   "outputs": [
    {
     "name": "stdout",
     "output_type": "stream",
     "text": [
      "Rotated array:\n",
      "[500, 1024, 364, 500, 100, 3, 2, 1]\n"
     ]
    }
   ],
   "source": [
    "l = [1,2,3,100, 500, 364, 1024,500]\n",
    "\n",
    "print(\"Rotated array:\")\n",
    "print(l[::-1])"
   ]
  },
  {
   "cell_type": "markdown",
   "id": "3e52d939",
   "metadata": {},
   "source": [
    "-------------\n",
    "### 4. Write a Python Program to Split the array and add the first part to the end?\n"
   ]
  },
  {
   "cell_type": "code",
   "execution_count": 19,
   "id": "1bb79098",
   "metadata": {},
   "outputs": [
    {
     "data": {
      "text/plain": [
       "[3, 100, 500, 364, 1024, 500, 1, 2]"
      ]
     },
     "execution_count": 19,
     "metadata": {},
     "output_type": "execute_result"
    }
   ],
   "source": [
    "def splitAdd(l :list, split :int) ->list:\n",
    "    \"\"\"_summary_\n",
    "\n",
    "    Args:\n",
    "        l (list): list to be split\n",
    "        split (int): index to split at\n",
    "    Returns:\n",
    "        list: list after split\n",
    "    \"\"\"\n",
    "    arr_out= l[split:] + l[:split]\n",
    "    return arr_out\n",
    "\n",
    "#test\n",
    "l = [1,2,3,100, 500, 364, 1024,500]\n",
    "splitIndex = 2\n",
    "splitAdd(l, splitIndex)#calling the function"
   ]
  },
  {
   "cell_type": "markdown",
   "id": "aa375779",
   "metadata": {},
   "source": [
    "--------------\n",
    "### 5. Write a Python Program to check if given array is Monotonic?"
   ]
  },
  {
   "cell_type": "code",
   "execution_count": 23,
   "id": "725c2a5a",
   "metadata": {},
   "outputs": [
    {
     "name": "stdout",
     "output_type": "stream",
     "text": [
      "True\n",
      "True\n",
      "False\n"
     ]
    }
   ],
   "source": [
    "#method 1\n",
    "def ismonotonic(array):\n",
    "    flag = True\n",
    "    \n",
    "    if array[0] >= array[len(array)-1]:\n",
    "        for i in range(len(array)-2):\n",
    "            if array[i] < array[i+1]:\n",
    "                flag = False\n",
    "    else:\n",
    "        for i in range(len(array)-2):\n",
    "            if array[i] > array[i+1]:\n",
    "                flag = False\n",
    "                \n",
    "    return flag\n",
    "\n",
    "array1 = [1,2,3,56, 124, 369]\n",
    "array2 = [123,43, 12, 2, -23,-345]\n",
    "array3 = [123,-23, 783, -98,0, 12]\n",
    "\n",
    "print(ismonotonic(array1))\n",
    "print(ismonotonic(array2))\n",
    "print(ismonotonic(array3))\n"
   ]
  },
  {
   "cell_type": "code",
   "execution_count": 21,
   "id": "809e09e1",
   "metadata": {},
   "outputs": [
    {
     "name": "stdout",
     "output_type": "stream",
     "text": [
      "True\n",
      "True\n",
      "False\n"
     ]
    }
   ],
   "source": [
    "#method 2\n",
    "def is_monotonic(arr):\n",
    "    # Check if the array is increasing or decreasing\n",
    "    is_increasing = all(arr[i] <= arr[i+1] for i in range(len(arr)-1))\n",
    "    is_decreasing = all(arr[i] >= arr[i+1] for i in range(len(arr)-1))\n",
    "    \n",
    "    return is_increasing or is_decreasing\n",
    "\n",
    "# Test cases\n",
    "arr1 = [1, 2, 3, 4, 5]\n",
    "arr2 = [5, 4, 3, 2, 1]\n",
    "arr3 = [1, 2, 3, 2, 1]\n",
    "\n",
    "print(is_monotonic(arr1))\n",
    "print(is_monotonic(arr2))\n",
    "print(is_monotonic(arr3))"
   ]
  }
 ],
 "metadata": {
  "kernelspec": {
   "display_name": "Python 3 (ipykernel)",
   "language": "python",
   "name": "python3"
  },
  "language_info": {
   "codemirror_mode": {
    "name": "ipython",
    "version": 3
   },
   "file_extension": ".py",
   "mimetype": "text/x-python",
   "name": "python",
   "nbconvert_exporter": "python",
   "pygments_lexer": "ipython3",
   "version": "3.10.5"
  }
 },
 "nbformat": 4,
 "nbformat_minor": 5
}
