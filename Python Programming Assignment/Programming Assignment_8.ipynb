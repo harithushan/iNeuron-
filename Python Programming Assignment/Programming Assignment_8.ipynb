{
 "cells": [
  {
   "attachments": {},
   "cell_type": "markdown",
   "id": "9b304197",
   "metadata": {},
   "source": [
    "## Assignment_8"
   ]
  },
  {
   "cell_type": "markdown",
   "id": "22789ae6",
   "metadata": {},
   "source": [
    "-------------\n",
    "### 1. Write a Python Program to Add Two Matrices?\n"
   ]
  },
  {
   "cell_type": "code",
   "execution_count": 1,
   "id": "f26dd3f3",
   "metadata": {},
   "outputs": [
    {
     "name": "stdout",
     "output_type": "stream",
     "text": [
      "Result of addition:\n",
      " [[10 10 10]\n",
      " [10 10 10]\n",
      " [10 10 10]]\n"
     ]
    }
   ],
   "source": [
    "import numpy as np\n",
    "\n",
    "# Definng the matrices\n",
    "A = np.array([[1, 2, 3],\n",
    "              [4, 5, 6],\n",
    "              [7, 8, 9]])\n",
    "\n",
    "B = np.array([[9, 8, 7],\n",
    "              [6, 5, 4],\n",
    "              [3, 2, 1]])\n",
    "\n",
    "# Adding the matrices\n",
    "C = A + B\n",
    "\n",
    "print(\"Result of addition:\\n\", C)"
   ]
  },
  {
   "cell_type": "markdown",
   "id": "044ceda6",
   "metadata": {},
   "source": [
    "-------------\n",
    "### 2. Write a Python Program to Multiply Two Matrices?"
   ]
  },
  {
   "cell_type": "code",
   "execution_count": 4,
   "id": "0452db48",
   "metadata": {},
   "outputs": [
    {
     "name": "stdout",
     "output_type": "stream",
     "text": [
      "Result of multiplication:\n",
      " [[ 58  64]\n",
      " [139 154]]\n"
     ]
    }
   ],
   "source": [
    "#method 1\n",
    "import numpy as np\n",
    "\n",
    "# Defining the matrices\n",
    "A = np.array([[1, 2, 3],\n",
    "              [4, 5, 6]])\n",
    "\n",
    "B = np.array([[7, 8],\n",
    "              [9, 10],\n",
    "              [11, 12]])\n",
    "\n",
    "# Multiplication using numpy.dot()\n",
    "C = np.dot(A, B)\n",
    "\n",
    "print(\"Result of multiplication:\\n\", C)"
   ]
  },
  {
   "cell_type": "code",
   "execution_count": 9,
   "id": "ebbe5b9c",
   "metadata": {},
   "outputs": [
    {
     "name": "stdout",
     "output_type": "stream",
     "text": [
      "Result of multiplication:\n",
      " [[ 58  64]\n",
      " [139 154]]\n"
     ]
    }
   ],
   "source": [
    "# method 2 Using the @ operator\n",
    "import numpy as np\n",
    "\n",
    "# Defining the matrices\n",
    "A = np.array([[1, 2, 3],\n",
    "                [4, 5, 6]])\n",
    "\n",
    "B = np.array([[7, 8],\n",
    "                [9, 10],\n",
    "                [11, 12]])\n",
    "\n",
    "# Multiplication using @ operator\n",
    "C = A @ B\n",
    "\n",
    "print(\"Result of multiplication:\\n\", C)"
   ]
  },
  {
   "cell_type": "code",
   "execution_count": 8,
   "id": "334d6268",
   "metadata": {},
   "outputs": [
    {
     "name": "stdout",
     "output_type": "stream",
     "text": [
      "Result of multiplication:\n",
      " [[ 58.  64.]\n",
      " [139. 154.]]\n"
     ]
    }
   ],
   "source": [
    "#method 3\n",
    "import numpy as np\n",
    "\n",
    "#size of matrix A is 2x3 \n",
    "A = np.array([[1, 2, 3],\n",
    "              [4, 5, 6]])\n",
    "#size of matrix B is 3x2\n",
    "B = np.array([[7, 8],\n",
    "              [9, 10],\n",
    "              [11, 12]])\n",
    "\n",
    "#creating a matrix to store the result equal to size of AxB\n",
    "result = np.zeros((A.shape[0], B.shape[1]))#size of result matrix is 2x2\n",
    "\n",
    "for i in range(A.shape[0]):#iterating by row of A\n",
    "    for j in range(B.shape[1]):#iterating by coloum by B\n",
    "        for k in range(A.shape[1]):#iterating by rows of B\n",
    "            result[i][j] += A[i][k] * B[k][j]\n",
    "\n",
    "print(\"Result of multiplication:\\n\", result)"
   ]
  },
  {
   "cell_type": "markdown",
   "id": "5f688e46",
   "metadata": {},
   "source": [
    "-------------\n",
    "### 3. Write a Python Program to Transpose a Matrix?"
   ]
  },
  {
   "cell_type": "code",
   "execution_count": 17,
   "id": "f077f41d",
   "metadata": {},
   "outputs": [
    {
     "name": "stdout",
     "output_type": "stream",
     "text": [
      "Transpose of matrix:\n",
      "[[1 3 5]\n",
      " [2 4 6]]\n"
     ]
    }
   ],
   "source": [
    "#method 1 : using numpy library\n",
    "import numpy as np\n",
    "\n",
    "# Defining the matrix\n",
    "matrix = np.array([[1,2],\n",
    "                [3,4],\n",
    "                [5,6]])\n",
    "\n",
    "transpose = matrix.T\n",
    "\n",
    "print(\"Transpose of matrix:\")\n",
    "print(transpose)"
   ]
  },
  {
   "cell_type": "code",
   "execution_count": 10,
   "id": "a6af3f54",
   "metadata": {},
   "outputs": [
    {
     "name": "stdout",
     "output_type": "stream",
     "text": [
      "[1, 3, 5]\n",
      "[2, 4, 6]\n"
     ]
    }
   ],
   "source": [
    "#method 2 : Transposing a matrix using a nested loop\n",
    "\n",
    "X = [[1,2],\n",
    "    [3,4],\n",
    "    [5,6]]\n",
    "\n",
    "result = [[0,0,0],\n",
    "         [0,0,0]]\n",
    "\n",
    "# iterating through rows\n",
    "for i in range(len(X)):\n",
    "   # iterating through columns\n",
    "   for j in range(len(X[0])):\n",
    "        result[j][i] = X[i][j]\n",
    "\n",
    "for r in result:\n",
    "    print(r)"
   ]
  },
  {
   "cell_type": "markdown",
   "id": "b2849025",
   "metadata": {},
   "source": [
    "------------------\n",
    "### 4. Write a Python Program to Sort Words in Alphabetic Order?\n"
   ]
  },
  {
   "cell_type": "code",
   "execution_count": 20,
   "id": "c030bfb6",
   "metadata": {},
   "outputs": [
    {
     "name": "stdout",
     "output_type": "stream",
     "text": [
      "input text:  Write a Python Program to Sort Words in Alphabetic Order?\n",
      "Sorted order of words: ['a', 'alphabetic', 'in', 'order?', 'program', 'python', 'sort', 'to', 'words', 'write']\n",
      "Joined words: a alphabetic in order? program python sort to words write\n"
     ]
    }
   ],
   "source": [
    "try:\n",
    "    sentance = input(\"Enter the words: \")\n",
    "    print(f\"input text: {sentance}\")\n",
    "    words = [word.lower() for word in sentance.split()]\n",
    "    words.sort()\n",
    "    \n",
    "    print(f\"Sorted order of words: {words}\")\n",
    "    joined_words = \" \".join(words)\n",
    "    print(f\"Joined words: {joined_words}\")\n",
    "\n",
    "except Exception as e:\n",
    "    print(e)"
   ]
  },
  {
   "cell_type": "markdown",
   "id": "48ac7b24",
   "metadata": {},
   "source": [
    "-----------------\n",
    "### 5. Write a Python Program to Remove Punctuation From a String?"
   ]
  },
  {
   "cell_type": "code",
   "execution_count": 24,
   "id": "2d683609",
   "metadata": {},
   "outputs": [
    {
     "name": "stdout",
     "output_type": "stream",
     "text": [
      "Text without punctuation: Hello How are you Im doing well thank you\n"
     ]
    }
   ],
   "source": [
    "#method 1\n",
    "import string\n",
    "\n",
    "def remove_punctuation(text):\n",
    "    # Create a translation table using string.punctuation\n",
    "    translator = str.maketrans(\"\", \"\", string.punctuation)\n",
    "    # Remove punctuation using translate() method\n",
    "    text_without_punct = text.translate(translator)\n",
    "    \n",
    "    return text_without_punct\n",
    "\n",
    "text = \"Hello! How are you? I'm doing well, thank you.\"\n",
    "text_without_punct = remove_punctuation(text)\n",
    "print(\"Text without punctuation:\", text_without_punct)\n"
   ]
  },
  {
   "cell_type": "code",
   "execution_count": 26,
   "id": "6c7b2c63",
   "metadata": {},
   "outputs": [
    {
     "name": "stdout",
     "output_type": "stream",
     "text": [
      "Text without punctuation: Hello How are you Im doing well thank you\n"
     ]
    }
   ],
   "source": [
    "#method 2\n",
    "punctuations = '''!()-[]{};:'\"\\,<>./?@#$%^&*_~'''\n",
    "\n",
    "string = text = \"Hello! How are you? I'm doing well, thank you.\"\n",
    "\n",
    "outputString = \"\"\n",
    "\n",
    "for char in string:\n",
    "    if char not in punctuations:\n",
    "        outputString += char\n",
    "        \n",
    "print(\"Text without punctuation:\",outputString)"
   ]
  },
  {
   "cell_type": "code",
   "execution_count": null,
   "id": "2faa6c63",
   "metadata": {},
   "outputs": [],
   "source": []
  }
 ],
 "metadata": {
  "kernelspec": {
   "display_name": "Python 3 (ipykernel)",
   "language": "python",
   "name": "python3"
  },
  "language_info": {
   "codemirror_mode": {
    "name": "ipython",
    "version": 3
   },
   "file_extension": ".py",
   "mimetype": "text/x-python",
   "name": "python",
   "nbconvert_exporter": "python",
   "pygments_lexer": "ipython3",
   "version": "3.10.5"
  }
 },
 "nbformat": 4,
 "nbformat_minor": 5
}
