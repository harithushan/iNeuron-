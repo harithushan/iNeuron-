{
 "cells": [
  {
   "attachments": {},
   "cell_type": "markdown",
   "id": "3a1e7d3e",
   "metadata": {},
   "source": [
    "## Assignment_24\n",
    "------------"
   ]
  },
  {
   "attachments": {},
   "cell_type": "markdown",
   "id": "7d0301f4",
   "metadata": {},
   "source": [
    "### 1. Create a function that takes an integer and returns a list from 1 to the given number, where:\n",
    "\n",
    "1.\tIf the number can be divided evenly by 4, amplify it by 10 (i.e. return 10 times the number).\n",
    "2.\tIf the number cannot be divided evenly by 4, simply return the number.\n",
    "Examples\n",
    "- amplify(4) ➞ [1, 2, 3, 40]\n",
    "- amplify(3) ➞ [1, 2, 3]\n",
    "- amplify(25) ➞ [1, 2, 3, 40, 5, 6, 7, 80, 9, 10, 11, 120, 13, 14, 15, 160, 17, 18, 19, 200, 21, 22, 23, 240, 25]\n",
    "\n",
    "Notes<br>\n",
    "•\tThe given integer will always be equal to or greater than 1.<br>\n",
    "•\tInclude the number (see example above).<br>\n",
    "•\tTo perform this problem with its intended purpose, try doing it with list comprehensions. If that's too difficult, just solve the challenge any way you can.\n"
   ]
  },
  {
   "cell_type": "code",
   "execution_count": 2,
   "id": "106231dd",
   "metadata": {},
   "outputs": [
    {
     "name": "stdout",
     "output_type": "stream",
     "text": [
      "[1, 2, 3, 40]\n",
      "[1, 2, 3]\n",
      "[1, 2, 3, 40, 5, 6, 7, 80, 9, 10, 11, 120, 13, 14, 15, 160, 17, 18, 19, 200, 21, 22, 23, 240, 25]\n"
     ]
    }
   ],
   "source": [
    "def amplify(n):\n",
    "    return [i*10 if i % 4 == 0 else i for i in range(1,n+1)]\n",
    "\n",
    "print(amplify(4))\n",
    "print(amplify(3))\n",
    "print(amplify(25))"
   ]
  },
  {
   "attachments": {},
   "cell_type": "markdown",
   "id": "be8c23c7",
   "metadata": {},
   "source": [
    "### 2. Create a function that takes a list of numbers and return the number that's unique.\n",
    "\n",
    "Examples\n",
    "- unique([3, 3, 3, 7, 3, 3]) ➞ 7\n",
    "- unique([0, 0, 0.77, 0, 0]) ➞ 0.77\n",
    "- unique([0, 1, 1, 1, 1, 1, 1, 1]) ➞ 0\n",
    "\n",
    "Notes<br>\n",
    "Test cases will always have exactly one unique number while all others are the same.\n"
   ]
  },
  {
   "cell_type": "code",
   "execution_count": 3,
   "id": "02ab78c9",
   "metadata": {},
   "outputs": [
    {
     "name": "stdout",
     "output_type": "stream",
     "text": [
      "7\n",
      "0.77\n",
      "0\n"
     ]
    }
   ],
   "source": [
    "def unique(numbers):\n",
    "\n",
    "    frequency = {}\n",
    "    for num in numbers:\n",
    "        if num in frequency:\n",
    "            frequency[num] += 1\n",
    "        else:\n",
    "            frequency[num] = 1\n",
    "    \n",
    "    for key, value in frequency.items():\n",
    "        if value == 1:\n",
    "            return key\n",
    "        \n",
    "        \n",
    "print(unique([3, 3, 3, 7, 3, 3]))\n",
    "print(unique([0, 0, 0.77, 0, 0]))\n",
    "print(unique([0, 1, 1, 1, 1, 1, 1, 1]))"
   ]
  },
  {
   "attachments": {},
   "cell_type": "markdown",
   "id": "29fc01d0",
   "metadata": {},
   "source": [
    "### 3. Your task is to create a Circle constructor that creates a circle with a radius provided by an argument. The circles constructed must have two getters getArea() (PIr^2) and getPerimeter() (2PI*r) which give both respective areas and perimeter (circumference).\n",
    "\n",
    "For help with this class, I have provided you with a Rectangle constructor which you can use as a base example.\n",
    "\n",
    "Examples<br>\n",
    "\n",
    "circy = Circle(11)<br>\n",
    "circy.getArea()<br>\n",
    "#Should return 380.132711084365<br>\n",
    "<br>\n",
    "circy = Circle(4.44)<br>\n",
    "circy.getPerimeter()<br>\n",
    "#Should return 27.897342763877365<br>\n",
    "\n",
    "Notes<br>\n",
    "Round results up to the nearest integer.\n"
   ]
  },
  {
   "cell_type": "code",
   "execution_count": 5,
   "id": "4a384596",
   "metadata": {},
   "outputs": [],
   "source": [
    "from math import pi\n",
    "\n",
    "class Circle:\n",
    "    def __init__(self, r):\n",
    "        self.r = r\n",
    "    \n",
    "    def getArea(self):\n",
    "        return round(pi * (self.r ** 2))\n",
    "    \n",
    "    def getPerimeter(self):\n",
    "        return round(2 * pi * self.r)"
   ]
  },
  {
   "cell_type": "code",
   "execution_count": 7,
   "id": "adf91957",
   "metadata": {},
   "outputs": [
    {
     "name": "stdout",
     "output_type": "stream",
     "text": [
      "380\n"
     ]
    }
   ],
   "source": [
    "circy = Circle(11)\n",
    "print(circy.getArea())"
   ]
  },
  {
   "cell_type": "code",
   "execution_count": 8,
   "id": "c421cf63",
   "metadata": {},
   "outputs": [
    {
     "name": "stdout",
     "output_type": "stream",
     "text": [
      "28\n"
     ]
    }
   ],
   "source": [
    "circy = Circle(4.44)\n",
    "print(circy.getPerimeter())"
   ]
  },
  {
   "attachments": {},
   "cell_type": "markdown",
   "id": "a29252c8",
   "metadata": {},
   "source": [
    "### 4. Create a function that takes a list of strings and return a list, sorted from shortest to longest.\n",
    "\n",
    "Notes<br>\n",
    "All test cases contain lists with strings of different lengths, so you won't have to deal with multiple strings of the same length.\n"
   ]
  },
  {
   "cell_type": "code",
   "execution_count": 9,
   "id": "67507be3",
   "metadata": {},
   "outputs": [
    {
     "name": "stdout",
     "output_type": "stream",
     "text": [
      "['Apple', 'Google', 'Microsoft']\n",
      "['Raphael', 'Leonardo', 'Donatello', 'Michelangelo']\n",
      "['Jung', 'Turing', 'Einstein']\n"
     ]
    }
   ],
   "source": [
    "from collections import OrderedDict\n",
    "\n",
    "def sort_by_length(lst):\n",
    "    \n",
    "    my_dict = {len(v):v for v in lst}\n",
    "    return list(OrderedDict(sorted(my_dict.items())).values())\n",
    "\n",
    "print(sort_by_length(['Google', 'Apple', 'Microsoft']))\n",
    "print(sort_by_length(['Leonardo', 'Michelangelo', 'Raphael', 'Donatello']))\n",
    "print(sort_by_length(['Turing', 'Einstein', 'Jung']))"
   ]
  },
  {
   "attachments": {},
   "cell_type": "markdown",
   "id": "860d723d",
   "metadata": {},
   "source": [
    "### 5. Create a function that validates whether three given integers form a Pythagorean triplet. The sum of the squares of the two smallest integers must equal the square of the largest number to be validated.\n",
    "Notes :<br>\n",
    "Numbers may not be given in a sorted order."
   ]
  },
  {
   "cell_type": "code",
   "execution_count": 10,
   "id": "f10cdb7a",
   "metadata": {},
   "outputs": [
    {
     "name": "stdout",
     "output_type": "stream",
     "text": [
      "True\n",
      "True\n",
      "False\n"
     ]
    }
   ],
   "source": [
    "def is_triplet(a,b,c):\n",
    "    lst = [a, b, c]\n",
    "    lst.sort()\n",
    "    if lst[0] ** 2 + lst[1] ** 2 == lst[2] ** 2:\n",
    "        return True\n",
    "    else:\n",
    "        return False\n",
    "    \n",
    "print(is_triplet(3, 4, 5))\n",
    "print(is_triplet(13, 5, 12))\n",
    "print(is_triplet(1, 2, 3))"
   ]
  },
  {
   "cell_type": "code",
   "execution_count": null,
   "id": "54ad72af",
   "metadata": {},
   "outputs": [],
   "source": []
  }
 ],
 "metadata": {
  "kernelspec": {
   "display_name": "base",
   "language": "python",
   "name": "python3"
  },
  "language_info": {
   "codemirror_mode": {
    "name": "ipython",
    "version": 3
   },
   "file_extension": ".py",
   "mimetype": "text/x-python",
   "name": "python",
   "nbconvert_exporter": "python",
   "pygments_lexer": "ipython3",
   "version": "3.10.5"
  },
  "vscode": {
   "interpreter": {
    "hash": "bd5316cc99e3660f85f6692d31dd238d65d190c87f17e1dfe92cf173d93fcefb"
   }
  }
 },
 "nbformat": 4,
 "nbformat_minor": 5
}
