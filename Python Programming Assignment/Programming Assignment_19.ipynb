{
 "cells": [
  {
   "attachments": {},
   "cell_type": "markdown",
   "id": "5dfd67a8",
   "metadata": {},
   "source": [
    "## Assignmen_19\n",
    "-------------"
   ]
  },
  {
   "attachments": {},
   "cell_type": "markdown",
   "id": "7521b191",
   "metadata": {},
   "source": [
    "### 1. Create a function that takes a string and returns a string in which each character is repeated once. \n",
    "\n",
    "Examples \n",
    "\n",
    "- double_char('String') ➞ 'SSttrriinngg'\n",
    "- double_char('Hello World!') ➞ 'HHeelllloo WWoorrlldd!!' \n",
    "- doublechar('1234! ') ➞ '11223344!!__ '"
   ]
  },
  {
   "cell_type": "code",
   "execution_count": 1,
   "id": "a84fd793",
   "metadata": {},
   "outputs": [
    {
     "name": "stdout",
     "output_type": "stream",
     "text": [
      "SSttrriinngg\n",
      "HHeelllloo  WWoorrlldd!!\n",
      "11223344!!__  \n"
     ]
    }
   ],
   "source": [
    "def double_char(string):\n",
    "    return ''.join([c+c for c in string])\n",
    "\n",
    "print(double_char('String'))\n",
    "print(double_char('Hello World!'))\n",
    "print(double_char('1234!_ '))"
   ]
  },
  {
   "attachments": {},
   "cell_type": "markdown",
   "id": "5bd33352",
   "metadata": {},
   "source": [
    "### 2. Create a function that reverses a boolean value and returns the string 'boolean expected' if another variable type is given. \n",
    "\n",
    "Examples \n",
    "- reverse(True) ➞ False \n",
    "- reverse(False) ➞ True \n",
    "- reverse(0) ➞ 'boolean expected' \n",
    "- reverse(None) ➞ 'boolean expected'"
   ]
  },
  {
   "cell_type": "code",
   "execution_count": 2,
   "id": "ed93bdd4",
   "metadata": {},
   "outputs": [
    {
     "name": "stdout",
     "output_type": "stream",
     "text": [
      "False\n",
      "True\n",
      "boolean expected\n",
      "boolean expected\n"
     ]
    }
   ],
   "source": [
    "def reverse(arg):\n",
    "    return not arg if type(arg) == bool else \"boolean expected\"\n",
    "\n",
    "print(reverse(True))\n",
    "print(reverse(False))\n",
    "print(reverse(0))\n",
    "print(reverse(None))"
   ]
  },
  {
   "attachments": {},
   "cell_type": "markdown",
   "id": "0ceeed0b",
   "metadata": {},
   "source": [
    "### 3. Create a function that returns the thickness (in meters) of a piece of paper after folding it n number of times. The paper starts off with a thickness of 0.5mm.\n",
    "\n",
    "Exampes:\n",
    "\n",
    "- num_layers(1) ➞ \"0.001m\"<br>\n",
    "Paper folded once is 1mm (equal to 0.001m)\n",
    "\n",
    "- num_layers(4) ➞ \"0.008m\"<br>\n",
    "Paper folded 4 times is 8mm (equal to 0.008m)\n",
    "\n",
    "- num_layers(21) ➞ \"1048.576m\"<br>\n",
    "Paper folded 21 times is 1048576mm (equal to 1048.576m)\n"
   ]
  },
  {
   "cell_type": "code",
   "execution_count": 4,
   "id": "4ab4b733",
   "metadata": {},
   "outputs": [
    {
     "name": "stdout",
     "output_type": "stream",
     "text": [
      "0.001m\n",
      "0.008m\n",
      "1048.576m\n"
     ]
    }
   ],
   "source": [
    "def layers_thickness(n):\n",
    "    thickness = 0.5\n",
    "    fold_thickness=(2**n)*0.5\n",
    "    return str(fold_thickness / 1000)+'m' # for meters\n",
    "\n",
    "print(layers_thickness(1))\n",
    "print(layers_thickness(4))\n",
    "print(layers_thickness(21))"
   ]
  },
  {
   "attachments": {},
   "cell_type": "markdown",
   "id": "f5f6c707",
   "metadata": {},
   "source": [
    "### 4. Create a function that takes a single string as argument and returns an ordered list containing the indices of all capital letters in the string. \n",
    "\n",
    "Examples \n",
    "\n",
    "- index_of_caps('eDaBiT') ➞ [1, 3, 5] \n",
    "- index_of_caps('eQuINoX') ➞ [1, 3, 4, 6] \n",
    "- index_of_caps('determine') ➞ [] \n",
    "- index_of_caps('STRIKE') ➞ [0, 1, 2, 3, 4, 5] \n",
    "- index_of_caps('sUn') ➞ [1]"
   ]
  },
  {
   "cell_type": "code",
   "execution_count": 5,
   "id": "6f79b833",
   "metadata": {},
   "outputs": [
    {
     "name": "stdout",
     "output_type": "stream",
     "text": [
      "[1, 3, 5]\n",
      "[1, 3, 4, 6]\n",
      "[]\n",
      "[0, 1, 2, 3, 4, 5]\n",
      "[1]\n"
     ]
    }
   ],
   "source": [
    "def index_of_caps(word):\n",
    "    indices = []\n",
    "    for i in range(len(word)):\n",
    "        if word[i].isupper():\n",
    "             indices.append(i)\n",
    "    return indices\n",
    "\n",
    "print(index_of_caps('eDaBiT'))\n",
    "print(index_of_caps('eQuINoX')) \n",
    "print(index_of_caps('determine'))\n",
    "print(index_of_caps('STRIKE'))\n",
    "print(index_of_caps('sUn'))"
   ]
  },
  {
   "attachments": {},
   "cell_type": "markdown",
   "id": "d3834875",
   "metadata": {},
   "source": [
    "### 5. Using list comprehensions, create a function that finds all even numbers from 1 to the given number. \n",
    "\n",
    "Examples \n",
    "- find_even_nums(8) ➞ [2, 4, 6, 8] \n",
    "- find_even_nums(4) ➞ [2, 4] \n",
    "- find_even_nums(2) ➞ [2]"
   ]
  },
  {
   "cell_type": "code",
   "execution_count": 6,
   "id": "159431cd",
   "metadata": {},
   "outputs": [
    {
     "name": "stdout",
     "output_type": "stream",
     "text": [
      "[2, 4, 6, 8]\n",
      "[2, 4]\n",
      "[2]\n"
     ]
    }
   ],
   "source": [
    "def find_even_nums(n):\n",
    "    even =[x for x in range(2,n+1) if x % 2 == 0]\n",
    "    return even\n",
    "\n",
    "print(find_even_nums(8))\n",
    "print(find_even_nums(4))\n",
    "print(find_even_nums(2))"
   ]
  },
  {
   "cell_type": "code",
   "execution_count": null,
   "id": "ba9a3d78",
   "metadata": {},
   "outputs": [],
   "source": []
  }
 ],
 "metadata": {
  "kernelspec": {
   "display_name": "Python 3 (ipykernel)",
   "language": "python",
   "name": "python3"
  },
  "language_info": {
   "codemirror_mode": {
    "name": "ipython",
    "version": 3
   },
   "file_extension": ".py",
   "mimetype": "text/x-python",
   "name": "python",
   "nbconvert_exporter": "python",
   "pygments_lexer": "ipython3",
   "version": "3.10.5"
  }
 },
 "nbformat": 4,
 "nbformat_minor": 5
}
