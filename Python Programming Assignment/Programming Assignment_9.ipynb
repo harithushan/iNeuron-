{
 "cells": [
  {
   "attachments": {},
   "cell_type": "markdown",
   "id": "47b9bb99",
   "metadata": {},
   "source": [
    "## Assignment_9\n",
    "----------------"
   ]
  },
  {
   "attachments": {},
   "cell_type": "markdown",
   "id": "c725f7a9",
   "metadata": {},
   "source": [
    "### 1. Write a Python program to check if the given number is a Disarium Number?\n",
    "-  Disarium number is a number where the sum of its digits raised to their respective positions is equal to the number itself\n",
    "-  For example, 175 is a Disarium number as follows\n",
    "-  1^1 + 7^2 + 5^3 = 1 + 49 + 125 = 175\n",
    "\n",
    "##### ans:"
   ]
  },
  {
   "cell_type": "code",
   "execution_count": 8,
   "id": "0f58f46f",
   "metadata": {},
   "outputs": [
    {
     "name": "stdout",
     "output_type": "stream",
     "text": [
      "True, 135 is a Disarium number\n",
      "False, 147 is not a Disarium number\n",
      "True, 89 is a Disarium number\n",
      "True, 175 is a Disarium number\n"
     ]
    }
   ],
   "source": [
    "#method 1\n",
    "def is_disarium1(num):\n",
    "    \n",
    "    try:\n",
    "        if type(num) != int:\n",
    "            raise Exception(\"input is not an integer\")\n",
    "            \n",
    "        str_num = str(num)\n",
    "        n = len(str_num)        \n",
    "        sum_of_digits = 0\n",
    "        for i in range(n):\n",
    "            sum_of_digits += int(str_num[i])**(i+1)\n",
    "\n",
    "        if sum_of_digits == num:\n",
    "            return f\"True, {num} is a Disarium number\"\n",
    "        else:\n",
    "            return f\"False, {num} is not a Disarium number\"\n",
    "\n",
    "    except Exception as e:\n",
    "        print(e)\n",
    "        \n",
    "print(is_disarium1(135))\n",
    "print(is_disarium1(147))\n",
    "print(is_disarium1(89))\n",
    "print(is_disarium1(175))"
   ]
  },
  {
   "cell_type": "code",
   "execution_count": 9,
   "id": "00495e5f",
   "metadata": {},
   "outputs": [
    {
     "name": "stdout",
     "output_type": "stream",
     "text": [
      "True\n",
      "False\n",
      "True\n",
      "True\n"
     ]
    }
   ],
   "source": [
    "#method 2\n",
    "def is_disarium2(num):\n",
    "    \n",
    "    try:\n",
    "        if type(num) != int:\n",
    "            raise Exception(\"Not an integer\")\n",
    "            \n",
    "        str_num = str(num)\n",
    "        n = len(str_num)        \n",
    "        sum_of_digits = 0\n",
    "        for i in range(n):\n",
    "            sum_of_digits += int(str_num[i])**(i+1)\n",
    "\n",
    "        if sum_of_digits == int(num):\n",
    "            return True\n",
    "        else:\n",
    "            return False\n",
    "\n",
    "    except Exception as e:\n",
    "        print(e)\n",
    "        \n",
    "print(is_disarium2(135))\n",
    "print(is_disarium2(147))\n",
    "print(is_disarium2(89))\n",
    "print(is_disarium2(175))"
   ]
  },
  {
   "cell_type": "markdown",
   "id": "f0064401",
   "metadata": {},
   "source": [
    "---------------------------\n",
    "### 2. Write a Python program to print all disarium numbers between 1 to 100?\n",
    "##### ans:"
   ]
  },
  {
   "cell_type": "code",
   "execution_count": 10,
   "id": "78e6ba38",
   "metadata": {},
   "outputs": [
    {
     "name": "stdout",
     "output_type": "stream",
     "text": [
      "1 , 2 , 3 , 4 , 5 , 6 , 7 , 8 , 9 , 89 , "
     ]
    }
   ],
   "source": [
    "for i in range(1, 101):\n",
    "    if is_disarium2(i):\n",
    "        print(i, end = ' , ')"
   ]
  },
  {
   "attachments": {},
   "cell_type": "markdown",
   "id": "31df1e4a",
   "metadata": {},
   "source": [
    "---------------------------\n",
    "### 3. Write a Python program to check if the given number is Happy Number?\n",
    "\n",
    "- A happy number is a positive integer where the sum of the square of its digits, when iteratively computed, eventually equals 1 and terminates in a cycle at 1 are called happy numbers, otherwise, it is an unhappy number.\n",
    "\n",
    "- For example, 23 is a happy number as follows\n",
    "    - 2^2 + 3^2 = 4 + 9 = 13\n",
    "    - 1^2 + 3^2 = 1 + 9 = 10\n",
    "    - 1^2 + 0^2 = 1 + 0 = 1\n",
    "\n",
    "##### ans:"
   ]
  },
  {
   "cell_type": "code",
   "execution_count": 22,
   "id": "c274693d",
   "metadata": {},
   "outputs": [
    {
     "name": "stdout",
     "output_type": "stream",
     "text": [
      "19, True\n",
      "16, False\n",
      "20, False\n",
      "68, True\n",
      "100, True\n",
      "101, False\n",
      "4, False\n"
     ]
    }
   ],
   "source": [
    "def is_happy(num):\n",
    "    res = num; \n",
    "    def is_happy_sub(num):    \n",
    "        r = 0;  \n",
    "        s = 0\n",
    "        while(num > 0):    \n",
    "            r = num%10    \n",
    "            s += r**2  \n",
    "            num //= 10    \n",
    "        return s     \n",
    "\n",
    "    while(res != 1 and res != 4):    \n",
    "        res = is_happy_sub(res)    \n",
    "\n",
    "    if(res == 1):           \n",
    "        return True\n",
    "    elif(res == 4):    \n",
    "        return False\n",
    "    \n",
    "print(\"19,\",is_happy(19))\n",
    "print(\"16,\",is_happy(16))\n",
    "print(\"20,\",is_happy(20))\n",
    "print(\"68,\",is_happy(68))\n",
    "print(\"100,\",is_happy(100))\n",
    "print(\"101,\",is_happy(101))\n",
    "print(\"4,\",is_happy(4))"
   ]
  },
  {
   "cell_type": "markdown",
   "id": "51b265e3",
   "metadata": {},
   "source": [
    "---------------------------\n",
    "### 4. Write a Python program to print all happy numbers between 1 and 100?\n",
    "##### ans:"
   ]
  },
  {
   "cell_type": "code",
   "execution_count": 19,
   "id": "dd776994",
   "metadata": {},
   "outputs": [
    {
     "name": "stdout",
     "output_type": "stream",
     "text": [
      "1 , 7 , 10 , 13 , 19 , 23 , 28 , 31 , 32 , 44 , 49 , 68 , 70 , 79 , 82 , 86 , 91 , 94 , 97 , 100 , "
     ]
    }
   ],
   "source": [
    "for i in range(1, 101):\n",
    "    if is_happy(i):\n",
    "        print(i, end = ' , ')"
   ]
  },
  {
   "attachments": {},
   "cell_type": "markdown",
   "id": "6a190ee0",
   "metadata": {},
   "source": [
    "---------------------------\n",
    "### 5. Write a Python program to determine whether the given number is a Harshad Number?\n",
    "\n",
    "- A Harshad number is a positive integer that is divisible by the sum of its digits. For example, 18 is a Harshad number because the sum of its digits (1 + 8) is 9, and 18 is divisible by 9\n",
    "\n",
    "    - 1 + 8 = 9\n",
    "    - 18 / 9 = 2\n",
    "\n",
    "\n",
    "##### ans:"
   ]
  },
  {
   "cell_type": "code",
   "execution_count": 27,
   "id": "9a8d5472",
   "metadata": {},
   "outputs": [
    {
     "name": "stdout",
     "output_type": "stream",
     "text": [
      "156 is a Harshad number\n",
      "113 is not a Harshad number\n",
      "18 is a Harshad number\n"
     ]
    }
   ],
   "source": [
    "def is_harshad(num):\n",
    "    sumd = sum(int(digit) for digit in str(num))\n",
    "        \n",
    "    if num%sumd==0:\n",
    "        print(f\"{num} is a Harshad number\")\n",
    "    else:\n",
    "        print(f\"{num} is not a Harshad number\")\n",
    "        \n",
    "        \n",
    "is_harshad(156)\n",
    "is_harshad(113)\n",
    "is_harshad(18)"
   ]
  },
  {
   "attachments": {},
   "cell_type": "markdown",
   "id": "7a7ea92e",
   "metadata": {},
   "source": [
    "---------------------------\n",
    "### 6. Write a Python program to print all pronic numbers between 1 and 100?\n",
    "\n",
    "- A pronic number, also known as an oblong number or rectangular number, is a number that is the product of two consecutive integers. For example, 6 is a pronic number because it is the product of 2 and 3\n",
    "\n",
    "    - 1 * 2 = 2\n",
    "    - 2 * 3 = 6\n",
    "    - 3 * 4 = 12\n",
    "    - 4 * 5 = 20\n",
    "    - 5 * 6 = 30\n",
    "    \n",
    "##### ans:"
   ]
  },
  {
   "cell_type": "code",
   "execution_count": 35,
   "id": "05a27075",
   "metadata": {},
   "outputs": [
    {
     "name": "stdout",
     "output_type": "stream",
     "text": [
      "2 , 6 , 12 , 20 , 30 , 42 , 56 , 72 , 90 , "
     ]
    }
   ],
   "source": [
    "def is_pronic_number(num):\n",
    "    # Check if the number is the product of two consecutive integers\n",
    "    for i in range(1, int(num**0.5)+1):\n",
    "        if i * (i+1) == num:\n",
    "            return True\n",
    "    return False\n",
    "\n",
    "# Printinf all pronic numbers between 1 and 100\n",
    "for i in range(1, 101):\n",
    "    if is_pronic_number(i):\n",
    "        print(i,end=' , ')"
   ]
  },
  {
   "cell_type": "code",
   "execution_count": null,
   "id": "37731019",
   "metadata": {},
   "outputs": [],
   "source": []
  }
 ],
 "metadata": {
  "kernelspec": {
   "display_name": "Python 3 (ipykernel)",
   "language": "python",
   "name": "python3"
  },
  "language_info": {
   "codemirror_mode": {
    "name": "ipython",
    "version": 3
   },
   "file_extension": ".py",
   "mimetype": "text/x-python",
   "name": "python",
   "nbconvert_exporter": "python",
   "pygments_lexer": "ipython3",
   "version": "3.10.5"
  }
 },
 "nbformat": 4,
 "nbformat_minor": 5
}
