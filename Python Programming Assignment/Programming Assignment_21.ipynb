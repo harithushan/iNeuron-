{
 "cells": [
  {
   "attachments": {},
   "cell_type": "markdown",
   "id": "9cd90f33",
   "metadata": {},
   "source": [
    "## Assignment_21\n",
    "-------------"
   ]
  },
  {
   "attachments": {},
   "cell_type": "markdown",
   "id": "53ec3693",
   "metadata": {},
   "source": [
    "### 1. Write a function that takes a list and a number as arguments. Add the number to the end of the list, then remove the first element of the list. The function should then return the updated list.\n",
    "Examples\n",
    "- next_in_line([5, 6, 7, 8, 9], 1) ➞ [6, 7, 8, 9, 1]\n",
    "- next_in_line([7, 6, 3, 23, 17], 10) ➞ [6, 3, 23, 17, 10]\n",
    "- next_in_line([1, 10, 20, 42 ], 6) ➞ [10, 20, 42, 6]\n",
    "- next_in_line([], 6) ➞ \"No list has been selected\""
   ]
  },
  {
   "cell_type": "code",
   "execution_count": 1,
   "id": "e9658f0b",
   "metadata": {},
   "outputs": [
    {
     "name": "stdout",
     "output_type": "stream",
     "text": [
      "[6, 7, 8, 9, 1]\n",
      "[6, 3, 23, 17, 10]\n",
      "[10, 20, 42, 6]\n",
      "No list has been selected\n"
     ]
    }
   ],
   "source": [
    "def next_in_line(lst, number):\n",
    "    if not lst:\n",
    "        return \"No list has been selected\"\n",
    "    lst.append(number)\n",
    "    lst.pop(0)\n",
    "    return lst\n",
    "\n",
    "    \n",
    "print(next_in_line([5, 6, 7, 8, 9], 1))\n",
    "print(next_in_line([7, 6, 3, 23, 17], 10))\n",
    "print(next_in_line([1, 10, 20, 42 ], 6))\n",
    "print(next_in_line([], 6))"
   ]
  },
  {
   "attachments": {},
   "cell_type": "markdown",
   "id": "bec5b9e6",
   "metadata": {},
   "source": [
    "### 2. Create the function that takes a list of dictionaries and returns the sum of people's budgets.\n",
    "\n",
    "Examples\n",
    "- get_budgets([\n",
    "  { \"name\": \"John\", \"age\": 21, \"budget\": 23000 },<br>\n",
    "  { \"name\": \"Steve\",  \"age\": 32, \"budget\": 40000 },<br>\n",
    "  { \"name\": \"Martin\",  \"age\": 16, \"budget\": 2700 }<br>\n",
    "]) ➞ 65700\n",
    "\n",
    "- get_budgets([\n",
    "  { \"name\": \"John\",  \"age\": 21, \"budget\": 29000 },<br>\n",
    "  { \"name\": \"Steve\",  \"age\": 32, \"budget\": 32000 },<br>\n",
    "  { \"name\": \"Martin\",  \"age\": 16, \"budget\": 1600 }<br>\n",
    "]) ➞ 62600\n"
   ]
  },
  {
   "cell_type": "code",
   "execution_count": 3,
   "id": "fbfe212f",
   "metadata": {},
   "outputs": [],
   "source": [
    "def get_budgets(lst):\n",
    "    total_budget = 0\n",
    "    for person in lst:\n",
    "        total_budget += person[\"budget\"]\n",
    "    return total_budget"
   ]
  },
  {
   "cell_type": "code",
   "execution_count": 4,
   "id": "9313d2d4",
   "metadata": {},
   "outputs": [
    {
     "data": {
      "text/plain": [
       "65700"
      ]
     },
     "execution_count": 4,
     "metadata": {},
     "output_type": "execute_result"
    }
   ],
   "source": [
    "get_budgets([\n",
    "  { \"name\": \"John\", \"age\": 21, \"budget\": 23000 },\n",
    "  { \"name\": \"Steve\",  \"age\": 32, \"budget\": 40000 },\n",
    "  { \"name\": \"Martin\",  \"age\": 16, \"budget\": 2700 }\n",
    "  ])"
   ]
  },
  {
   "cell_type": "code",
   "execution_count": 5,
   "id": "124947a6",
   "metadata": {},
   "outputs": [
    {
     "data": {
      "text/plain": [
       "62600"
      ]
     },
     "execution_count": 5,
     "metadata": {},
     "output_type": "execute_result"
    }
   ],
   "source": [
    "get_budgets([\n",
    "  { \"name\": \"John\",  \"age\": 21, \"budget\": 29000 },\n",
    "  { \"name\": \"Steve\",  \"age\": 32, \"budget\": 32000 },\n",
    "  { \"name\": \"Martin\",  \"age\": 16, \"budget\": 1600 }\n",
    "]) "
   ]
  },
  {
   "attachments": {},
   "cell_type": "markdown",
   "id": "679902a3",
   "metadata": {},
   "source": [
    "### 3. Create a function that takes a string and returns a string with its letters in alphabetical order.\n",
    "Examples\n",
    "- alphabet_soup(\"hello\") ➞ \"ehllo\"\n",
    "- alphabet_soup(\"edabit\") ➞ \"abdeit\"\n",
    "- alphabet_soup(\"hacker\") ➞ \"acehkr\"\n",
    "- alphabet_soup(\"geek\") ➞ \"eegk\"\n",
    "- alphabet_soup(\"javascript\") ➞ \"aacijprstv\"\n"
   ]
  },
  {
   "cell_type": "code",
   "execution_count": 6,
   "id": "4a3929bc",
   "metadata": {},
   "outputs": [
    {
     "name": "stdout",
     "output_type": "stream",
     "text": [
      "ehllo\n",
      "abdeit\n",
      "acehkr\n",
      "eegk\n",
      "aacijprstv\n"
     ]
    }
   ],
   "source": [
    "def alphabet_soup(string: str):\n",
    "    string = sorted(string)\n",
    "    return \"\".join(string)\n",
    "\n",
    "print(alphabet_soup('hello'))\n",
    "print(alphabet_soup('edabit'))\n",
    "print(alphabet_soup('hacker'))\n",
    "print(alphabet_soup('geek'))\n",
    "print(alphabet_soup('javascript'))"
   ]
  },
  {
   "attachments": {},
   "cell_type": "markdown",
   "id": "62c54845",
   "metadata": {},
   "source": [
    "### 4. Suppose that you invest $10,000 for 10 years at an interest rate of 6% compounded monthly. What will be the value of your investment at the end of the 10 year period?\n",
    "\n",
    "Create a function that accepts the principal p, the term in years t, the interest rate r, and the number of compounding periods per year n. The function returns the value at the end of term rounded to the nearest cent.\n",
    "\n",
    "For the example above:\n",
    "- compound_interest(10000, 10, 0.06, 12) ➞ 18193.97\n",
    "\n",
    "Note that the interest rate is given as a decimal and n=12 because with monthly compounding there are 12 periods per year. Compounding can also be done annually, quarterly, weekly, or daily.\n",
    "\n",
    "- compound_interest(100, 1, 0.05, 1) ➞ 105.0\n",
    "- compound_interest(3500, 15, 0.1, 4) ➞ 15399.26\n",
    "- compound_interest(100000, 20, 0.15, 365) ➞ 2007316.26\n",
    "\n",
    "- A = P * (1 + r/n)^(n*t)\n",
    "\n",
    "where:<br>\n",
    "A = the final amount (value at the end of the term)<br>\n",
    "P = the principal amount (initial investment)<br>\n",
    "r = the interest rate (as a decimal)<br>\n",
    "n = the number of compounding periods per year<br>\n",
    "t = the term in years<br>"
   ]
  },
  {
   "cell_type": "code",
   "execution_count": 11,
   "id": "1b7e6134",
   "metadata": {},
   "outputs": [
    {
     "name": "stdout",
     "output_type": "stream",
     "text": [
      "18193.97\n",
      "105.0\n",
      "15399.26\n",
      "2007316.26\n"
     ]
    }
   ],
   "source": [
    "def compound_interest(p, t, r, n):\n",
    "    A = p * (1 + r/n)**(n*t)\n",
    "    return round(A, 2)\n",
    "\n",
    "print(compound_interest(10000, 10, 0.06, 12))\n",
    "print(compound_interest(100, 1, 0.05, 1))\n",
    "print(compound_interest(3500, 15, 0.1, 4))\n",
    "print(compound_interest(100000, 20, 0.15, 365))"
   ]
  },
  {
   "cell_type": "markdown",
   "id": "08bcc557",
   "metadata": {},
   "source": [
    "### 5. Write a function that takes a list of elements and returns only the integers."
   ]
  },
  {
   "cell_type": "code",
   "execution_count": 12,
   "id": "81fa8971",
   "metadata": {},
   "outputs": [
    {
     "name": "stdout",
     "output_type": "stream",
     "text": [
      "[9, 2, 16]\n",
      "[81, 123]\n",
      "[10, 56, 20, 3]\n",
      "[1]\n"
     ]
    }
   ],
   "source": [
    "def return_only_integer(lst: list):\n",
    "    return [x for x in lst if type(x) == int]\n",
    "\n",
    "print(return_only_integer([9, 2, 'space', 'car', 'lion', 16]))\n",
    "print(return_only_integer(['hello', 81, 'basketball', 123, 'fox']))\n",
    "print(return_only_integer([10, '121', 56, 20, 'car', 3, 'lion']))\n",
    "print(return_only_integer(['String', True, 3.3, 1]))"
   ]
  },
  {
   "cell_type": "code",
   "execution_count": null,
   "id": "16f3e3a6",
   "metadata": {},
   "outputs": [],
   "source": []
  }
 ],
 "metadata": {
  "kernelspec": {
   "display_name": "Python 3 (ipykernel)",
   "language": "python",
   "name": "python3"
  },
  "language_info": {
   "codemirror_mode": {
    "name": "ipython",
    "version": 3
   },
   "file_extension": ".py",
   "mimetype": "text/x-python",
   "name": "python",
   "nbconvert_exporter": "python",
   "pygments_lexer": "ipython3",
   "version": "3.10.5"
  }
 },
 "nbformat": 4,
 "nbformat_minor": 5
}
