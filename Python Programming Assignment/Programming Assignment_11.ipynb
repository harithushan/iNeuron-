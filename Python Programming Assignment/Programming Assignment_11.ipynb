{
 "cells": [
  {
   "attachments": {},
   "cell_type": "markdown",
   "id": "53c7e882",
   "metadata": {},
   "source": [
    "# Assignment_11\n",
    "--------------------"
   ]
  },
  {
   "cell_type": "markdown",
   "id": "051da140",
   "metadata": {},
   "source": [
    "### 1. Write a Python program to find words which are greater than given length k?"
   ]
  },
  {
   "cell_type": "code",
   "execution_count": 2,
   "id": "7d34576a",
   "metadata": {},
   "outputs": [
    {
     "data": {
      "text/plain": [
       "['bananana', 'orange', 'dragonfruit', 'almond']"
      ]
     },
     "execution_count": 2,
     "metadata": {},
     "output_type": "execute_result"
    }
   ],
   "source": [
    "def greater(low: list, k: int):\n",
    "    output = []\n",
    "    for i in low:\n",
    "        if len(i) > k:\n",
    "            output.append(i)\n",
    "            \n",
    "    return output\n",
    "\n",
    "low = ['Apple', 'cake','bananana', 'orange' , 'berry','dragonfruit', 'almond']\n",
    "k = 5\n",
    "greater(low, k) "
   ]
  },
  {
   "cell_type": "markdown",
   "id": "26719cbd",
   "metadata": {},
   "source": [
    "### 2. Write a Python program for removing i-th character from a string?"
   ]
  },
  {
   "cell_type": "code",
   "execution_count": 4,
   "id": "3425ccc2",
   "metadata": {},
   "outputs": [
    {
     "data": {
      "text/plain": [
       "'hell wrld'"
      ]
     },
     "execution_count": 4,
     "metadata": {},
     "output_type": "execute_result"
    }
   ],
   "source": [
    "def remove_i(string: str, i):\n",
    "    string = string.replace(string[i], '')\n",
    "    return string\n",
    "\n",
    "remove_i('hello world', 4)"
   ]
  },
  {
   "cell_type": "markdown",
   "id": "51ae6b0f",
   "metadata": {},
   "source": [
    "### 3. Write a Python program to split and join a string?"
   ]
  },
  {
   "cell_type": "code",
   "execution_count": 5,
   "id": "f4a55976",
   "metadata": {},
   "outputs": [
    {
     "name": "stdout",
     "output_type": "stream",
     "text": [
      "['Write', 'a', 'Python', 'program', 'to', 'split', 'and', 'join', 'a', 'string?']\n",
      "Write a Python program to split and join a string?\n"
     ]
    }
   ],
   "source": [
    "string = \"Write a Python program to split and join a string?\"\n",
    "\n",
    "split = string.split(' ')\n",
    "print(split)\n",
    "\n",
    "join = \" \".join(split)\n",
    "print(join)"
   ]
  },
  {
   "cell_type": "markdown",
   "id": "59079fe1",
   "metadata": {},
   "source": [
    "### 4. Write a Python to check if a given string is binary string or not?"
   ]
  },
  {
   "cell_type": "code",
   "execution_count": 6,
   "id": "89f59702",
   "metadata": {},
   "outputs": [
    {
     "name": "stdout",
     "output_type": "stream",
     "text": [
      "True\n",
      "False\n",
      "False\n",
      "False\n"
     ]
    }
   ],
   "source": [
    "def is_binary_string(s):\n",
    "    for char in s:\n",
    "        if char not in ['0', '1']:\n",
    "            return False\n",
    "    return True\n",
    "\n",
    "\n",
    "s1 = '101011'\n",
    "s2 = '10102'\n",
    "s3 = '276'\n",
    "s4 = 'hi'\n",
    "print(is_binary_string(s1)) # Output: True\n",
    "print(is_binary_string(s2)) # Output: False\n",
    "print(is_binary_string(s3)) # Output: False\n",
    "print(is_binary_string(s4)) # Output: False"
   ]
  },
  {
   "cell_type": "markdown",
   "id": "4d6cf11a",
   "metadata": {},
   "source": [
    "### 5. Write a Python program to find uncommon words from two Strings?"
   ]
  },
  {
   "cell_type": "code",
   "execution_count": 7,
   "id": "73bd42d1",
   "metadata": {},
   "outputs": [
    {
     "name": "stdout",
     "output_type": "stream",
     "text": [
      "{'how', 'hello', 'am', 'fine.', 'How', 'I', 'you', 'are', 'about', 'doin?', 'you?'}\n"
     ]
    }
   ],
   "source": [
    "def find_uncommon_words(str1, str2):\n",
    "    \n",
    "    # Spliting strings into lists of words\n",
    "    words1 = str1.split()\n",
    "    words2 = str2.split()\n",
    "\n",
    "    # Finding the unique words in each list\n",
    "    unique_words1 = set(words1)\n",
    "    unique_words2 = set(words2)\n",
    "\n",
    "    # Finding the words that are unique to each list\n",
    "    uncommon_words = unique_words1.symmetric_difference(unique_words2)\n",
    "\n",
    "    return uncommon_words\n",
    "\n",
    "\n",
    "s1 = \"Hi! hello how are you doin?\"\n",
    "s2 = \"Hi! I am fine. How about you?\"\n",
    "\n",
    "uncommon_words = find_uncommon_words(s1, s2)\n",
    "print(uncommon_words) \n"
   ]
  },
  {
   "cell_type": "markdown",
   "id": "e2b24677",
   "metadata": {},
   "source": [
    "### 6. Write a Python to find all duplicate characters in string?"
   ]
  },
  {
   "cell_type": "code",
   "execution_count": 16,
   "id": "20a4b54c",
   "metadata": {},
   "outputs": [
    {
     "name": "stdout",
     "output_type": "stream",
     "text": [
      "find all duplicate characters in string\n",
      "{'s', 'd', 'n', 'i', 't', ' ', 'r', 'e', 'l', 'a', 'c'}\n"
     ]
    }
   ],
   "source": [
    "def find_duplicate_characters(s):\n",
    "\n",
    "    duplicates = set()\n",
    "    print(s)\n",
    "    for char in s:\n",
    "        if s.count(char) > 1:\n",
    "            duplicates.add(char)\n",
    "\n",
    "    return duplicates\n",
    "\n",
    "s = \"find all duplicate characters in string\"\n",
    "duplicate_chars = find_duplicate_characters(s)\n",
    "print(duplicate_chars)"
   ]
  },
  {
   "cell_type": "markdown",
   "id": "1a6af7e4",
   "metadata": {},
   "source": [
    "### 7. Write a Python Program to check if a string contains any special character?"
   ]
  },
  {
   "cell_type": "code",
   "execution_count": 21,
   "id": "1c112c83",
   "metadata": {},
   "outputs": [
    {
     "name": "stdout",
     "output_type": "stream",
     "text": [
      "Given string \"Hello World!\" contains special characters\n",
      "Given string \"Welcome, @user!\" contains special characters\n"
     ]
    }
   ],
   "source": [
    "import re\n",
    "\n",
    "def find_special_characters(s):\n",
    "    # Defining a regular expression pattern that matches any special character\n",
    "    regex = re.compile('[@_!#$%^&*()<>?/\\|}{~:]')\n",
    "\n",
    "    # Checking if the pattern matches any part of the input string\n",
    "    if regex.search(s) == None:\n",
    "        print(f'Given string \"{s}\" does not contain special characters')\n",
    "    else:\n",
    "        print(f'Given string \"{s}\" contains special characters')\n",
    "        \n",
    "s1 = \"Hello World!\"\n",
    "s2 = \"Welcome, @user!\"\n",
    "find_special_characters(s1) \n",
    "find_special_characters(s2) \n"
   ]
  },
  {
   "cell_type": "code",
   "execution_count": null,
   "id": "cf59aa91",
   "metadata": {},
   "outputs": [],
   "source": []
  }
 ],
 "metadata": {
  "kernelspec": {
   "display_name": "Python 3 (ipykernel)",
   "language": "python",
   "name": "python3"
  },
  "language_info": {
   "codemirror_mode": {
    "name": "ipython",
    "version": 3
   },
   "file_extension": ".py",
   "mimetype": "text/x-python",
   "name": "python",
   "nbconvert_exporter": "python",
   "pygments_lexer": "ipython3",
   "version": "3.10.5"
  }
 },
 "nbformat": 4,
 "nbformat_minor": 5
}
